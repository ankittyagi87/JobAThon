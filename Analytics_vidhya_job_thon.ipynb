{
 "cells": [
  {
   "cell_type": "code",
   "execution_count": 223,
   "metadata": {},
   "outputs": [],
   "source": [
    "import pandas as pd\n",
    "import numpy as np\n",
    "import matplotlib.pyplot as plt\n",
    "from sklearn.ensemble import ExtraTreesClassifier\n",
    "from sklearn.feature_selection import SelectFromModel               # Load required Library"
   ]
  },
  {
   "cell_type": "code",
   "execution_count": 224,
   "metadata": {},
   "outputs": [],
   "source": [
    "data = pd.read_csv(\"train_s3TEQDk.csv\")                # Data Load"
   ]
  },
  {
   "cell_type": "code",
   "execution_count": 225,
   "metadata": {},
   "outputs": [
    {
     "data": {
      "text/html": [
       "<div>\n",
       "<style scoped>\n",
       "    .dataframe tbody tr th:only-of-type {\n",
       "        vertical-align: middle;\n",
       "    }\n",
       "\n",
       "    .dataframe tbody tr th {\n",
       "        vertical-align: top;\n",
       "    }\n",
       "\n",
       "    .dataframe thead th {\n",
       "        text-align: right;\n",
       "    }\n",
       "</style>\n",
       "<table border=\"1\" class=\"dataframe\">\n",
       "  <thead>\n",
       "    <tr style=\"text-align: right;\">\n",
       "      <th></th>\n",
       "      <th>ID</th>\n",
       "      <th>Gender</th>\n",
       "      <th>Age</th>\n",
       "      <th>Region_Code</th>\n",
       "      <th>Occupation</th>\n",
       "      <th>Channel_Code</th>\n",
       "      <th>Vintage</th>\n",
       "      <th>Credit_Product</th>\n",
       "      <th>Avg_Account_Balance</th>\n",
       "      <th>Is_Active</th>\n",
       "      <th>Is_Lead</th>\n",
       "    </tr>\n",
       "  </thead>\n",
       "  <tbody>\n",
       "    <tr>\n",
       "      <th>0</th>\n",
       "      <td>NNVBBKZB</td>\n",
       "      <td>Female</td>\n",
       "      <td>73</td>\n",
       "      <td>RG268</td>\n",
       "      <td>Other</td>\n",
       "      <td>X3</td>\n",
       "      <td>43</td>\n",
       "      <td>No</td>\n",
       "      <td>1045696</td>\n",
       "      <td>No</td>\n",
       "      <td>0</td>\n",
       "    </tr>\n",
       "    <tr>\n",
       "      <th>1</th>\n",
       "      <td>IDD62UNG</td>\n",
       "      <td>Female</td>\n",
       "      <td>30</td>\n",
       "      <td>RG277</td>\n",
       "      <td>Salaried</td>\n",
       "      <td>X1</td>\n",
       "      <td>32</td>\n",
       "      <td>No</td>\n",
       "      <td>581988</td>\n",
       "      <td>No</td>\n",
       "      <td>0</td>\n",
       "    </tr>\n",
       "    <tr>\n",
       "      <th>2</th>\n",
       "      <td>HD3DSEMC</td>\n",
       "      <td>Female</td>\n",
       "      <td>56</td>\n",
       "      <td>RG268</td>\n",
       "      <td>Self_Employed</td>\n",
       "      <td>X3</td>\n",
       "      <td>26</td>\n",
       "      <td>No</td>\n",
       "      <td>1484315</td>\n",
       "      <td>Yes</td>\n",
       "      <td>0</td>\n",
       "    </tr>\n",
       "    <tr>\n",
       "      <th>3</th>\n",
       "      <td>BF3NC7KV</td>\n",
       "      <td>Male</td>\n",
       "      <td>34</td>\n",
       "      <td>RG270</td>\n",
       "      <td>Salaried</td>\n",
       "      <td>X1</td>\n",
       "      <td>19</td>\n",
       "      <td>No</td>\n",
       "      <td>470454</td>\n",
       "      <td>No</td>\n",
       "      <td>0</td>\n",
       "    </tr>\n",
       "    <tr>\n",
       "      <th>4</th>\n",
       "      <td>TEASRWXV</td>\n",
       "      <td>Female</td>\n",
       "      <td>30</td>\n",
       "      <td>RG282</td>\n",
       "      <td>Salaried</td>\n",
       "      <td>X1</td>\n",
       "      <td>33</td>\n",
       "      <td>No</td>\n",
       "      <td>886787</td>\n",
       "      <td>No</td>\n",
       "      <td>0</td>\n",
       "    </tr>\n",
       "    <tr>\n",
       "      <th>...</th>\n",
       "      <td>...</td>\n",
       "      <td>...</td>\n",
       "      <td>...</td>\n",
       "      <td>...</td>\n",
       "      <td>...</td>\n",
       "      <td>...</td>\n",
       "      <td>...</td>\n",
       "      <td>...</td>\n",
       "      <td>...</td>\n",
       "      <td>...</td>\n",
       "      <td>...</td>\n",
       "    </tr>\n",
       "    <tr>\n",
       "      <th>245720</th>\n",
       "      <td>BPAWWXZN</td>\n",
       "      <td>Male</td>\n",
       "      <td>51</td>\n",
       "      <td>RG284</td>\n",
       "      <td>Self_Employed</td>\n",
       "      <td>X3</td>\n",
       "      <td>109</td>\n",
       "      <td>NaN</td>\n",
       "      <td>1925586</td>\n",
       "      <td>No</td>\n",
       "      <td>0</td>\n",
       "    </tr>\n",
       "    <tr>\n",
       "      <th>245721</th>\n",
       "      <td>HFNB7JY8</td>\n",
       "      <td>Male</td>\n",
       "      <td>27</td>\n",
       "      <td>RG268</td>\n",
       "      <td>Salaried</td>\n",
       "      <td>X1</td>\n",
       "      <td>15</td>\n",
       "      <td>No</td>\n",
       "      <td>862952</td>\n",
       "      <td>Yes</td>\n",
       "      <td>0</td>\n",
       "    </tr>\n",
       "    <tr>\n",
       "      <th>245722</th>\n",
       "      <td>GEHAUCWT</td>\n",
       "      <td>Female</td>\n",
       "      <td>26</td>\n",
       "      <td>RG281</td>\n",
       "      <td>Salaried</td>\n",
       "      <td>X1</td>\n",
       "      <td>13</td>\n",
       "      <td>No</td>\n",
       "      <td>670659</td>\n",
       "      <td>No</td>\n",
       "      <td>0</td>\n",
       "    </tr>\n",
       "    <tr>\n",
       "      <th>245723</th>\n",
       "      <td>GE7V8SAH</td>\n",
       "      <td>Female</td>\n",
       "      <td>28</td>\n",
       "      <td>RG273</td>\n",
       "      <td>Salaried</td>\n",
       "      <td>X1</td>\n",
       "      <td>31</td>\n",
       "      <td>No</td>\n",
       "      <td>407504</td>\n",
       "      <td>No</td>\n",
       "      <td>0</td>\n",
       "    </tr>\n",
       "    <tr>\n",
       "      <th>245724</th>\n",
       "      <td>BOCZSWLJ</td>\n",
       "      <td>Male</td>\n",
       "      <td>29</td>\n",
       "      <td>RG269</td>\n",
       "      <td>Salaried</td>\n",
       "      <td>X1</td>\n",
       "      <td>21</td>\n",
       "      <td>No</td>\n",
       "      <td>1129276</td>\n",
       "      <td>No</td>\n",
       "      <td>0</td>\n",
       "    </tr>\n",
       "  </tbody>\n",
       "</table>\n",
       "<p>245725 rows × 11 columns</p>\n",
       "</div>"
      ],
      "text/plain": [
       "              ID  Gender  Age Region_Code     Occupation Channel_Code  \\\n",
       "0       NNVBBKZB  Female   73       RG268          Other           X3   \n",
       "1       IDD62UNG  Female   30       RG277       Salaried           X1   \n",
       "2       HD3DSEMC  Female   56       RG268  Self_Employed           X3   \n",
       "3       BF3NC7KV    Male   34       RG270       Salaried           X1   \n",
       "4       TEASRWXV  Female   30       RG282       Salaried           X1   \n",
       "...          ...     ...  ...         ...            ...          ...   \n",
       "245720  BPAWWXZN    Male   51       RG284  Self_Employed           X3   \n",
       "245721  HFNB7JY8    Male   27       RG268       Salaried           X1   \n",
       "245722  GEHAUCWT  Female   26       RG281       Salaried           X1   \n",
       "245723  GE7V8SAH  Female   28       RG273       Salaried           X1   \n",
       "245724  BOCZSWLJ    Male   29       RG269       Salaried           X1   \n",
       "\n",
       "        Vintage Credit_Product  Avg_Account_Balance Is_Active  Is_Lead  \n",
       "0            43             No              1045696        No        0  \n",
       "1            32             No               581988        No        0  \n",
       "2            26             No              1484315       Yes        0  \n",
       "3            19             No               470454        No        0  \n",
       "4            33             No               886787        No        0  \n",
       "...         ...            ...                  ...       ...      ...  \n",
       "245720      109            NaN              1925586        No        0  \n",
       "245721       15             No               862952       Yes        0  \n",
       "245722       13             No               670659        No        0  \n",
       "245723       31             No               407504        No        0  \n",
       "245724       21             No              1129276        No        0  \n",
       "\n",
       "[245725 rows x 11 columns]"
      ]
     },
     "execution_count": 225,
     "metadata": {},
     "output_type": "execute_result"
    }
   ],
   "source": [
    "data                                           # Data Contents"
   ]
  },
  {
   "cell_type": "code",
   "execution_count": 226,
   "metadata": {},
   "outputs": [
    {
     "data": {
      "text/plain": [
       "ID                         0\n",
       "Gender                     0\n",
       "Age                        0\n",
       "Region_Code                0\n",
       "Occupation                 0\n",
       "Channel_Code               0\n",
       "Vintage                    0\n",
       "Credit_Product         29325\n",
       "Avg_Account_Balance        0\n",
       "Is_Active                  0\n",
       "Is_Lead                    0\n",
       "dtype: int64"
      ]
     },
     "execution_count": 226,
     "metadata": {},
     "output_type": "execute_result"
    }
   ],
   "source": [
    "data.isna().sum()             # Check the missing value in columns"
   ]
  },
  {
   "cell_type": "code",
   "execution_count": 227,
   "metadata": {},
   "outputs": [],
   "source": [
    "data['Credit_Product'].fillna(\"Unknown\", inplace=True)            # Fill the missing value"
   ]
  },
  {
   "cell_type": "code",
   "execution_count": 228,
   "metadata": {},
   "outputs": [
    {
     "data": {
      "text/plain": [
       "RG268    35934\n",
       "RG283    29416\n",
       "RG254    26840\n",
       "RG284    19320\n",
       "RG277    12826\n",
       "RG280    12775\n",
       "RG269     7863\n",
       "RG270     7720\n",
       "RG261     7633\n",
       "RG257     6101\n",
       "RG251     5950\n",
       "RG282     5829\n",
       "RG274     5286\n",
       "RG272     5252\n",
       "RG281     5093\n",
       "RG273     4497\n",
       "RG252     4286\n",
       "RG279     3976\n",
       "RG263     3687\n",
       "RG275     3245\n",
       "RG260     3110\n",
       "RG256     2847\n",
       "RG264     2793\n",
       "RG276     2764\n",
       "RG259     2586\n",
       "RG250     2496\n",
       "RG255     2018\n",
       "RG258     1951\n",
       "RG253     1858\n",
       "RG278     1822\n",
       "RG262     1788\n",
       "RG266     1578\n",
       "RG265     1546\n",
       "RG271     1542\n",
       "RG267     1497\n",
       "Name: Region_Code, dtype: int64"
      ]
     },
     "execution_count": 228,
     "metadata": {},
     "output_type": "execute_result"
    }
   ],
   "source": [
    "data['Region_Code'].value_counts()                # Get the counts of Region Code column"
   ]
  },
  {
   "cell_type": "code",
   "execution_count": 229,
   "metadata": {},
   "outputs": [
    {
     "data": {
      "text/plain": [
       "X1    103718\n",
       "X3     68712\n",
       "X2     67726\n",
       "X4      5569\n",
       "Name: Channel_Code, dtype: int64"
      ]
     },
     "execution_count": 229,
     "metadata": {},
     "output_type": "execute_result"
    }
   ],
   "source": [
    "data['Channel_Code'].value_counts()                      # Get the counts of Channel Code column"
   ]
  },
  {
   "cell_type": "code",
   "execution_count": 230,
   "metadata": {},
   "outputs": [
    {
     "data": {
      "text/plain": [
       "No         144357\n",
       "Yes         72043\n",
       "Unknown     29325\n",
       "Name: Credit_Product, dtype: int64"
      ]
     },
     "execution_count": 230,
     "metadata": {},
     "output_type": "execute_result"
    }
   ],
   "source": [
    "data['Credit_Product'].value_counts()                 # Get the counts of Credit Producr column"
   ]
  },
  {
   "cell_type": "code",
   "execution_count": 231,
   "metadata": {},
   "outputs": [
    {
     "data": {
      "text/plain": [
       "No     150290\n",
       "Yes     95435\n",
       "Name: Is_Active, dtype: int64"
      ]
     },
     "execution_count": 231,
     "metadata": {},
     "output_type": "execute_result"
    }
   ],
   "source": [
    "data['Is_Active'].value_counts()                      # Get the counts of Is Active column"
   ]
  },
  {
   "cell_type": "code",
   "execution_count": 232,
   "metadata": {},
   "outputs": [],
   "source": [
    "data = data.drop(['ID'], axis=1)                      # Drop ID column"
   ]
  },
  {
   "cell_type": "code",
   "execution_count": 233,
   "metadata": {},
   "outputs": [],
   "source": [
    "data = pd.get_dummies(data)                           # One hot encoding of the categorical columns"
   ]
  },
  {
   "cell_type": "code",
   "execution_count": 234,
   "metadata": {},
   "outputs": [
    {
     "data": {
      "text/html": [
       "<div>\n",
       "<style scoped>\n",
       "    .dataframe tbody tr th:only-of-type {\n",
       "        vertical-align: middle;\n",
       "    }\n",
       "\n",
       "    .dataframe tbody tr th {\n",
       "        vertical-align: top;\n",
       "    }\n",
       "\n",
       "    .dataframe thead th {\n",
       "        text-align: right;\n",
       "    }\n",
       "</style>\n",
       "<table border=\"1\" class=\"dataframe\">\n",
       "  <thead>\n",
       "    <tr style=\"text-align: right;\">\n",
       "      <th></th>\n",
       "      <th>Age</th>\n",
       "      <th>Vintage</th>\n",
       "      <th>Avg_Account_Balance</th>\n",
       "      <th>Is_Lead</th>\n",
       "      <th>Gender_Female</th>\n",
       "      <th>Gender_Male</th>\n",
       "      <th>Region_Code_RG250</th>\n",
       "      <th>Region_Code_RG251</th>\n",
       "      <th>Region_Code_RG252</th>\n",
       "      <th>Region_Code_RG253</th>\n",
       "      <th>...</th>\n",
       "      <th>Occupation_Self_Employed</th>\n",
       "      <th>Channel_Code_X1</th>\n",
       "      <th>Channel_Code_X2</th>\n",
       "      <th>Channel_Code_X3</th>\n",
       "      <th>Channel_Code_X4</th>\n",
       "      <th>Credit_Product_No</th>\n",
       "      <th>Credit_Product_Unknown</th>\n",
       "      <th>Credit_Product_Yes</th>\n",
       "      <th>Is_Active_No</th>\n",
       "      <th>Is_Active_Yes</th>\n",
       "    </tr>\n",
       "  </thead>\n",
       "  <tbody>\n",
       "    <tr>\n",
       "      <th>0</th>\n",
       "      <td>73</td>\n",
       "      <td>43</td>\n",
       "      <td>1045696</td>\n",
       "      <td>0</td>\n",
       "      <td>1</td>\n",
       "      <td>0</td>\n",
       "      <td>0</td>\n",
       "      <td>0</td>\n",
       "      <td>0</td>\n",
       "      <td>0</td>\n",
       "      <td>...</td>\n",
       "      <td>0</td>\n",
       "      <td>0</td>\n",
       "      <td>0</td>\n",
       "      <td>1</td>\n",
       "      <td>0</td>\n",
       "      <td>1</td>\n",
       "      <td>0</td>\n",
       "      <td>0</td>\n",
       "      <td>1</td>\n",
       "      <td>0</td>\n",
       "    </tr>\n",
       "    <tr>\n",
       "      <th>1</th>\n",
       "      <td>30</td>\n",
       "      <td>32</td>\n",
       "      <td>581988</td>\n",
       "      <td>0</td>\n",
       "      <td>1</td>\n",
       "      <td>0</td>\n",
       "      <td>0</td>\n",
       "      <td>0</td>\n",
       "      <td>0</td>\n",
       "      <td>0</td>\n",
       "      <td>...</td>\n",
       "      <td>0</td>\n",
       "      <td>1</td>\n",
       "      <td>0</td>\n",
       "      <td>0</td>\n",
       "      <td>0</td>\n",
       "      <td>1</td>\n",
       "      <td>0</td>\n",
       "      <td>0</td>\n",
       "      <td>1</td>\n",
       "      <td>0</td>\n",
       "    </tr>\n",
       "    <tr>\n",
       "      <th>2</th>\n",
       "      <td>56</td>\n",
       "      <td>26</td>\n",
       "      <td>1484315</td>\n",
       "      <td>0</td>\n",
       "      <td>1</td>\n",
       "      <td>0</td>\n",
       "      <td>0</td>\n",
       "      <td>0</td>\n",
       "      <td>0</td>\n",
       "      <td>0</td>\n",
       "      <td>...</td>\n",
       "      <td>1</td>\n",
       "      <td>0</td>\n",
       "      <td>0</td>\n",
       "      <td>1</td>\n",
       "      <td>0</td>\n",
       "      <td>1</td>\n",
       "      <td>0</td>\n",
       "      <td>0</td>\n",
       "      <td>0</td>\n",
       "      <td>1</td>\n",
       "    </tr>\n",
       "    <tr>\n",
       "      <th>3</th>\n",
       "      <td>34</td>\n",
       "      <td>19</td>\n",
       "      <td>470454</td>\n",
       "      <td>0</td>\n",
       "      <td>0</td>\n",
       "      <td>1</td>\n",
       "      <td>0</td>\n",
       "      <td>0</td>\n",
       "      <td>0</td>\n",
       "      <td>0</td>\n",
       "      <td>...</td>\n",
       "      <td>0</td>\n",
       "      <td>1</td>\n",
       "      <td>0</td>\n",
       "      <td>0</td>\n",
       "      <td>0</td>\n",
       "      <td>1</td>\n",
       "      <td>0</td>\n",
       "      <td>0</td>\n",
       "      <td>1</td>\n",
       "      <td>0</td>\n",
       "    </tr>\n",
       "    <tr>\n",
       "      <th>4</th>\n",
       "      <td>30</td>\n",
       "      <td>33</td>\n",
       "      <td>886787</td>\n",
       "      <td>0</td>\n",
       "      <td>1</td>\n",
       "      <td>0</td>\n",
       "      <td>0</td>\n",
       "      <td>0</td>\n",
       "      <td>0</td>\n",
       "      <td>0</td>\n",
       "      <td>...</td>\n",
       "      <td>0</td>\n",
       "      <td>1</td>\n",
       "      <td>0</td>\n",
       "      <td>0</td>\n",
       "      <td>0</td>\n",
       "      <td>1</td>\n",
       "      <td>0</td>\n",
       "      <td>0</td>\n",
       "      <td>1</td>\n",
       "      <td>0</td>\n",
       "    </tr>\n",
       "  </tbody>\n",
       "</table>\n",
       "<p>5 rows × 54 columns</p>\n",
       "</div>"
      ],
      "text/plain": [
       "   Age  Vintage  Avg_Account_Balance  Is_Lead  Gender_Female  Gender_Male  \\\n",
       "0   73       43              1045696        0              1            0   \n",
       "1   30       32               581988        0              1            0   \n",
       "2   56       26              1484315        0              1            0   \n",
       "3   34       19               470454        0              0            1   \n",
       "4   30       33               886787        0              1            0   \n",
       "\n",
       "   Region_Code_RG250  Region_Code_RG251  Region_Code_RG252  Region_Code_RG253  \\\n",
       "0                  0                  0                  0                  0   \n",
       "1                  0                  0                  0                  0   \n",
       "2                  0                  0                  0                  0   \n",
       "3                  0                  0                  0                  0   \n",
       "4                  0                  0                  0                  0   \n",
       "\n",
       "   ...  Occupation_Self_Employed  Channel_Code_X1  Channel_Code_X2  \\\n",
       "0  ...                         0                0                0   \n",
       "1  ...                         0                1                0   \n",
       "2  ...                         1                0                0   \n",
       "3  ...                         0                1                0   \n",
       "4  ...                         0                1                0   \n",
       "\n",
       "   Channel_Code_X3  Channel_Code_X4  Credit_Product_No  \\\n",
       "0                1                0                  1   \n",
       "1                0                0                  1   \n",
       "2                1                0                  1   \n",
       "3                0                0                  1   \n",
       "4                0                0                  1   \n",
       "\n",
       "   Credit_Product_Unknown  Credit_Product_Yes  Is_Active_No  Is_Active_Yes  \n",
       "0                       0                   0             1              0  \n",
       "1                       0                   0             1              0  \n",
       "2                       0                   0             0              1  \n",
       "3                       0                   0             1              0  \n",
       "4                       0                   0             1              0  \n",
       "\n",
       "[5 rows x 54 columns]"
      ]
     },
     "execution_count": 234,
     "metadata": {},
     "output_type": "execute_result"
    }
   ],
   "source": [
    "data.head()                                           # Data "
   ]
  },
  {
   "cell_type": "code",
   "execution_count": 235,
   "metadata": {},
   "outputs": [],
   "source": [
    "y = data[['Is_Lead']]\n",
    "X = data.drop(['Is_Lead'], axis=1)                          # Prepare (X,y) training data "
   ]
  },
  {
   "cell_type": "code",
   "execution_count": 172,
   "metadata": {},
   "outputs": [
    {
     "name": "stderr",
     "output_type": "stream",
     "text": [
      "C:\\Users\\Ankit Tyagi\\anaconda3\\lib\\site-packages\\ipykernel_launcher.py:2: DataConversionWarning: A column-vector y was passed when a 1d array was expected. Please change the shape of y to (n_samples,), for example using ravel().\n",
      "  \n"
     ]
    },
    {
     "data": {
      "text/plain": [
       "array([0.16116438, 0.16620615, 0.22400877, 0.00342793, 0.00319818,\n",
       "       0.00105819, 0.00190911, 0.00124551, 0.00117929, 0.0027873 ,\n",
       "       0.00115132, 0.00092591, 0.00170944, 0.00117515, 0.0012008 ,\n",
       "       0.00127925, 0.00176052, 0.00098776, 0.00156516, 0.00101097,\n",
       "       0.00104427, 0.00077046, 0.00068625, 0.00352411, 0.00195806,\n",
       "       0.00163328, 0.00080757, 0.00181147, 0.00174266, 0.00151974,\n",
       "       0.00123238, 0.00153736, 0.00224925, 0.00106387, 0.00157661,\n",
       "       0.00249386, 0.00175518, 0.0017241 , 0.00327881, 0.00292797,\n",
       "       0.0029278 , 0.00601937, 0.01387193, 0.00436415, 0.01926988,\n",
       "       0.00933348, 0.01347988, 0.00099482, 0.12520982, 0.14130099,\n",
       "       0.03527031, 0.00741531, 0.00625397])"
      ]
     },
     "execution_count": 172,
     "metadata": {},
     "output_type": "execute_result"
    }
   ],
   "source": [
    "clf = ExtraTreesClassifier(n_estimators=50)\n",
    "clf = clf.fit(X, y)\n",
    "clf.feature_importances_                                    # Feature Importance"
   ]
  },
  {
   "cell_type": "code",
   "execution_count": 175,
   "metadata": {},
   "outputs": [
    {
     "data": {
      "text/plain": [
       "<matplotlib.axes._subplots.AxesSubplot at 0x11491615388>"
      ]
     },
     "execution_count": 175,
     "metadata": {},
     "output_type": "execute_result"
    },
    {
     "data": {
      "image/png": "[encoded data removed]",
      "text/plain": [
       "<Figure size 864x432 with 1 Axes>"
      ]
     },
     "metadata": {
      "needs_background": "light"
     },
     "output_type": "display_data"
    }
   ],
   "source": [
    "pd.Series(clf.feature_importances_, index=X.columns).plot.bar(color='steelblue', figsize=(12, 6))"
   ]
  },
  {
   "cell_type": "code",
   "execution_count": 206,
   "metadata": {},
   "outputs": [],
   "source": [
    "test = pd.read_csv(\"test_mSzZ8RL.csv\")                   # Load test data"
   ]
  },
  {
   "cell_type": "code",
   "execution_count": 207,
   "metadata": {},
   "outputs": [
    {
     "data": {
      "text/plain": [
       "ID                         0\n",
       "Gender                     0\n",
       "Age                        0\n",
       "Region_Code                0\n",
       "Occupation                 0\n",
       "Channel_Code               0\n",
       "Vintage                    0\n",
       "Credit_Product         12522\n",
       "Avg_Account_Balance        0\n",
       "Is_Active                  0\n",
       "dtype: int64"
      ]
     },
     "execution_count": 207,
     "metadata": {},
     "output_type": "execute_result"
    }
   ],
   "source": [
    "test.isna().sum()                                       # Get missing data"
   ]
  },
  {
   "cell_type": "code",
   "execution_count": 208,
   "metadata": {},
   "outputs": [],
   "source": [
    "test['Credit_Product'].fillna(\"Unknown\", inplace=True)              # Fill missing value as in training data"
   ]
  },
  {
   "cell_type": "code",
   "execution_count": 209,
   "metadata": {},
   "outputs": [],
   "source": [
    "ID = test[['ID']]                                              # Get ID column or preparing submission file"
   ]
  },
  {
   "cell_type": "code",
   "execution_count": 210,
   "metadata": {},
   "outputs": [],
   "source": [
    "test = test.drop(['ID'], axis=1)                        # Drop ID column"
   ]
  },
  {
   "cell_type": "code",
   "execution_count": 211,
   "metadata": {},
   "outputs": [],
   "source": [
    "test = pd.get_dummies(test)                             # OHE of test data as in training data"
   ]
  },
  {
   "cell_type": "code",
   "execution_count": 212,
   "metadata": {},
   "outputs": [
    {
     "data": {
      "text/html": [
       "<div>\n",
       "<style scoped>\n",
       "    .dataframe tbody tr th:only-of-type {\n",
       "        vertical-align: middle;\n",
       "    }\n",
       "\n",
       "    .dataframe tbody tr th {\n",
       "        vertical-align: top;\n",
       "    }\n",
       "\n",
       "    .dataframe thead th {\n",
       "        text-align: right;\n",
       "    }\n",
       "</style>\n",
       "<table border=\"1\" class=\"dataframe\">\n",
       "  <thead>\n",
       "    <tr style=\"text-align: right;\">\n",
       "      <th></th>\n",
       "      <th>Age</th>\n",
       "      <th>Vintage</th>\n",
       "      <th>Avg_Account_Balance</th>\n",
       "      <th>Gender_Female</th>\n",
       "      <th>Gender_Male</th>\n",
       "      <th>Region_Code_RG250</th>\n",
       "      <th>Region_Code_RG251</th>\n",
       "      <th>Region_Code_RG252</th>\n",
       "      <th>Region_Code_RG253</th>\n",
       "      <th>Region_Code_RG254</th>\n",
       "      <th>...</th>\n",
       "      <th>Occupation_Self_Employed</th>\n",
       "      <th>Channel_Code_X1</th>\n",
       "      <th>Channel_Code_X2</th>\n",
       "      <th>Channel_Code_X3</th>\n",
       "      <th>Channel_Code_X4</th>\n",
       "      <th>Credit_Product_No</th>\n",
       "      <th>Credit_Product_Unknown</th>\n",
       "      <th>Credit_Product_Yes</th>\n",
       "      <th>Is_Active_No</th>\n",
       "      <th>Is_Active_Yes</th>\n",
       "    </tr>\n",
       "  </thead>\n",
       "  <tbody>\n",
       "    <tr>\n",
       "      <th>0</th>\n",
       "      <td>29</td>\n",
       "      <td>25</td>\n",
       "      <td>742366</td>\n",
       "      <td>0</td>\n",
       "      <td>1</td>\n",
       "      <td>0</td>\n",
       "      <td>0</td>\n",
       "      <td>0</td>\n",
       "      <td>0</td>\n",
       "      <td>1</td>\n",
       "      <td>...</td>\n",
       "      <td>0</td>\n",
       "      <td>1</td>\n",
       "      <td>0</td>\n",
       "      <td>0</td>\n",
       "      <td>0</td>\n",
       "      <td>0</td>\n",
       "      <td>0</td>\n",
       "      <td>1</td>\n",
       "      <td>1</td>\n",
       "      <td>0</td>\n",
       "    </tr>\n",
       "    <tr>\n",
       "      <th>1</th>\n",
       "      <td>43</td>\n",
       "      <td>49</td>\n",
       "      <td>925537</td>\n",
       "      <td>0</td>\n",
       "      <td>1</td>\n",
       "      <td>0</td>\n",
       "      <td>0</td>\n",
       "      <td>0</td>\n",
       "      <td>0</td>\n",
       "      <td>0</td>\n",
       "      <td>...</td>\n",
       "      <td>0</td>\n",
       "      <td>0</td>\n",
       "      <td>1</td>\n",
       "      <td>0</td>\n",
       "      <td>0</td>\n",
       "      <td>0</td>\n",
       "      <td>1</td>\n",
       "      <td>0</td>\n",
       "      <td>1</td>\n",
       "      <td>0</td>\n",
       "    </tr>\n",
       "    <tr>\n",
       "      <th>2</th>\n",
       "      <td>31</td>\n",
       "      <td>14</td>\n",
       "      <td>215949</td>\n",
       "      <td>0</td>\n",
       "      <td>1</td>\n",
       "      <td>0</td>\n",
       "      <td>0</td>\n",
       "      <td>0</td>\n",
       "      <td>0</td>\n",
       "      <td>0</td>\n",
       "      <td>...</td>\n",
       "      <td>0</td>\n",
       "      <td>1</td>\n",
       "      <td>0</td>\n",
       "      <td>0</td>\n",
       "      <td>0</td>\n",
       "      <td>1</td>\n",
       "      <td>0</td>\n",
       "      <td>0</td>\n",
       "      <td>1</td>\n",
       "      <td>0</td>\n",
       "    </tr>\n",
       "    <tr>\n",
       "      <th>3</th>\n",
       "      <td>29</td>\n",
       "      <td>33</td>\n",
       "      <td>868070</td>\n",
       "      <td>0</td>\n",
       "      <td>1</td>\n",
       "      <td>0</td>\n",
       "      <td>0</td>\n",
       "      <td>0</td>\n",
       "      <td>0</td>\n",
       "      <td>0</td>\n",
       "      <td>...</td>\n",
       "      <td>0</td>\n",
       "      <td>1</td>\n",
       "      <td>0</td>\n",
       "      <td>0</td>\n",
       "      <td>0</td>\n",
       "      <td>1</td>\n",
       "      <td>0</td>\n",
       "      <td>0</td>\n",
       "      <td>1</td>\n",
       "      <td>0</td>\n",
       "    </tr>\n",
       "    <tr>\n",
       "      <th>4</th>\n",
       "      <td>29</td>\n",
       "      <td>19</td>\n",
       "      <td>657087</td>\n",
       "      <td>1</td>\n",
       "      <td>0</td>\n",
       "      <td>0</td>\n",
       "      <td>0</td>\n",
       "      <td>0</td>\n",
       "      <td>0</td>\n",
       "      <td>0</td>\n",
       "      <td>...</td>\n",
       "      <td>0</td>\n",
       "      <td>1</td>\n",
       "      <td>0</td>\n",
       "      <td>0</td>\n",
       "      <td>0</td>\n",
       "      <td>1</td>\n",
       "      <td>0</td>\n",
       "      <td>0</td>\n",
       "      <td>1</td>\n",
       "      <td>0</td>\n",
       "    </tr>\n",
       "  </tbody>\n",
       "</table>\n",
       "<p>5 rows × 53 columns</p>\n",
       "</div>"
      ],
      "text/plain": [
       "   Age  Vintage  Avg_Account_Balance  Gender_Female  Gender_Male  \\\n",
       "0   29       25               742366              0            1   \n",
       "1   43       49               925537              0            1   \n",
       "2   31       14               215949              0            1   \n",
       "3   29       33               868070              0            1   \n",
       "4   29       19               657087              1            0   \n",
       "\n",
       "   Region_Code_RG250  Region_Code_RG251  Region_Code_RG252  Region_Code_RG253  \\\n",
       "0                  0                  0                  0                  0   \n",
       "1                  0                  0                  0                  0   \n",
       "2                  0                  0                  0                  0   \n",
       "3                  0                  0                  0                  0   \n",
       "4                  0                  0                  0                  0   \n",
       "\n",
       "   Region_Code_RG254  ...  Occupation_Self_Employed  Channel_Code_X1  \\\n",
       "0                  1  ...                         0                1   \n",
       "1                  0  ...                         0                0   \n",
       "2                  0  ...                         0                1   \n",
       "3                  0  ...                         0                1   \n",
       "4                  0  ...                         0                1   \n",
       "\n",
       "   Channel_Code_X2  Channel_Code_X3  Channel_Code_X4  Credit_Product_No  \\\n",
       "0                0                0                0                  0   \n",
       "1                1                0                0                  0   \n",
       "2                0                0                0                  1   \n",
       "3                0                0                0                  1   \n",
       "4                0                0                0                  1   \n",
       "\n",
       "   Credit_Product_Unknown  Credit_Product_Yes  Is_Active_No  Is_Active_Yes  \n",
       "0                       0                   1             1              0  \n",
       "1                       1                   0             1              0  \n",
       "2                       0                   0             1              0  \n",
       "3                       0                   0             1              0  \n",
       "4                       0                   0             1              0  \n",
       "\n",
       "[5 rows x 53 columns]"
      ]
     },
     "execution_count": 212,
     "metadata": {},
     "output_type": "execute_result"
    }
   ],
   "source": [
    "test.head()"
   ]
  },
  {
   "cell_type": "code",
   "execution_count": 185,
   "metadata": {},
   "outputs": [],
   "source": [
    "from sklearn.metrics import accuracy_score, confusion_matrix, roc_auc_score, roc_curve     # Load metrics library"
   ]
  },
  {
   "cell_type": "code",
   "execution_count": 188,
   "metadata": {},
   "outputs": [
    {
     "name": "stderr",
     "output_type": "stream",
     "text": [
      "C:\\Users\\Ankit Tyagi\\anaconda3\\lib\\site-packages\\sklearn\\preprocessing\\_label.py:235: DataConversionWarning: A column-vector y was passed when a 1d array was expected. Please change the shape of y to (n_samples, ), for example using ravel().\n",
      "  y = column_or_1d(y, warn=True)\n",
      "C:\\Users\\Ankit Tyagi\\anaconda3\\lib\\site-packages\\sklearn\\preprocessing\\_label.py:268: DataConversionWarning: A column-vector y was passed when a 1d array was expected. Please change the shape of y to (n_samples, ), for example using ravel().\n",
      "  y = column_or_1d(y, warn=True)\n"
     ]
    },
    {
     "name": "stdout",
     "output_type": "stream",
     "text": [
      "Training until validation scores don't improve for 200 rounds\n",
      "[200]\ttraining's binary_logloss: 0.341065\tvalid_1's binary_logloss: 0.345424\n",
      "[400]\ttraining's binary_logloss: 0.338574\tvalid_1's binary_logloss: 0.345215\n",
      "Early stopping, best iteration is:\n",
      "[322]\ttraining's binary_logloss: 0.339537\tvalid_1's binary_logloss: 0.345088\n",
      "err_lgm:  0.8726150989006137\n"
     ]
    },
    {
     "name": "stderr",
     "output_type": "stream",
     "text": [
      "C:\\Users\\Ankit Tyagi\\anaconda3\\lib\\site-packages\\sklearn\\preprocessing\\_label.py:235: DataConversionWarning: A column-vector y was passed when a 1d array was expected. Please change the shape of y to (n_samples, ), for example using ravel().\n",
      "  y = column_or_1d(y, warn=True)\n",
      "C:\\Users\\Ankit Tyagi\\anaconda3\\lib\\site-packages\\sklearn\\preprocessing\\_label.py:268: DataConversionWarning: A column-vector y was passed when a 1d array was expected. Please change the shape of y to (n_samples, ), for example using ravel().\n",
      "  y = column_or_1d(y, warn=True)\n"
     ]
    },
    {
     "name": "stdout",
     "output_type": "stream",
     "text": [
      "Training until validation scores don't improve for 200 rounds\n",
      "[200]\ttraining's binary_logloss: 0.341113\tvalid_1's binary_logloss: 0.344968\n",
      "[400]\ttraining's binary_logloss: 0.338643\tvalid_1's binary_logloss: 0.344734\n",
      "Early stopping, best iteration is:\n",
      "[371]\ttraining's binary_logloss: 0.339013\tvalid_1's binary_logloss: 0.344677\n",
      "err_lgm:  0.8730788808671992\n"
     ]
    },
    {
     "name": "stderr",
     "output_type": "stream",
     "text": [
      "C:\\Users\\Ankit Tyagi\\anaconda3\\lib\\site-packages\\sklearn\\preprocessing\\_label.py:235: DataConversionWarning: A column-vector y was passed when a 1d array was expected. Please change the shape of y to (n_samples, ), for example using ravel().\n",
      "  y = column_or_1d(y, warn=True)\n",
      "C:\\Users\\Ankit Tyagi\\anaconda3\\lib\\site-packages\\sklearn\\preprocessing\\_label.py:268: DataConversionWarning: A column-vector y was passed when a 1d array was expected. Please change the shape of y to (n_samples, ), for example using ravel().\n",
      "  y = column_or_1d(y, warn=True)\n"
     ]
    },
    {
     "name": "stdout",
     "output_type": "stream",
     "text": [
      "Training until validation scores don't improve for 200 rounds\n",
      "[200]\ttraining's binary_logloss: 0.341084\tvalid_1's binary_logloss: 0.344068\n",
      "[400]\ttraining's binary_logloss: 0.338522\tvalid_1's binary_logloss: 0.344192\n",
      "Early stopping, best iteration is:\n",
      "[203]\ttraining's binary_logloss: 0.341059\tvalid_1's binary_logloss: 0.344052\n",
      "err_lgm:  0.8722878814787381\n"
     ]
    },
    {
     "name": "stderr",
     "output_type": "stream",
     "text": [
      "C:\\Users\\Ankit Tyagi\\anaconda3\\lib\\site-packages\\sklearn\\preprocessing\\_label.py:235: DataConversionWarning: A column-vector y was passed when a 1d array was expected. Please change the shape of y to (n_samples, ), for example using ravel().\n",
      "  y = column_or_1d(y, warn=True)\n",
      "C:\\Users\\Ankit Tyagi\\anaconda3\\lib\\site-packages\\sklearn\\preprocessing\\_label.py:268: DataConversionWarning: A column-vector y was passed when a 1d array was expected. Please change the shape of y to (n_samples, ), for example using ravel().\n",
      "  y = column_or_1d(y, warn=True)\n"
     ]
    },
    {
     "name": "stdout",
     "output_type": "stream",
     "text": [
      "Training until validation scores don't improve for 200 rounds\n",
      "[200]\ttraining's binary_logloss: 0.340951\tvalid_1's binary_logloss: 0.346497\n",
      "[400]\ttraining's binary_logloss: 0.338515\tvalid_1's binary_logloss: 0.346168\n",
      "Early stopping, best iteration is:\n",
      "[361]\ttraining's binary_logloss: 0.338951\tvalid_1's binary_logloss: 0.346092\n",
      "err_lgm:  0.8733445551778833\n"
     ]
    },
    {
     "name": "stderr",
     "output_type": "stream",
     "text": [
      "C:\\Users\\Ankit Tyagi\\anaconda3\\lib\\site-packages\\sklearn\\preprocessing\\_label.py:235: DataConversionWarning: A column-vector y was passed when a 1d array was expected. Please change the shape of y to (n_samples, ), for example using ravel().\n",
      "  y = column_or_1d(y, warn=True)\n",
      "C:\\Users\\Ankit Tyagi\\anaconda3\\lib\\site-packages\\sklearn\\preprocessing\\_label.py:268: DataConversionWarning: A column-vector y was passed when a 1d array was expected. Please change the shape of y to (n_samples, ), for example using ravel().\n",
      "  y = column_or_1d(y, warn=True)\n"
     ]
    },
    {
     "name": "stdout",
     "output_type": "stream",
     "text": [
      "Training until validation scores don't improve for 200 rounds\n",
      "[200]\ttraining's binary_logloss: 0.341219\tvalid_1's binary_logloss: 0.3422\n",
      "[400]\ttraining's binary_logloss: 0.338736\tvalid_1's binary_logloss: 0.342033\n",
      "Early stopping, best iteration is:\n",
      "[382]\ttraining's binary_logloss: 0.338969\tvalid_1's binary_logloss: 0.341986\n",
      "err_lgm:  0.875645713576363\n"
     ]
    },
    {
     "name": "stderr",
     "output_type": "stream",
     "text": [
      "C:\\Users\\Ankit Tyagi\\anaconda3\\lib\\site-packages\\sklearn\\preprocessing\\_label.py:235: DataConversionWarning: A column-vector y was passed when a 1d array was expected. Please change the shape of y to (n_samples, ), for example using ravel().\n",
      "  y = column_or_1d(y, warn=True)\n",
      "C:\\Users\\Ankit Tyagi\\anaconda3\\lib\\site-packages\\sklearn\\preprocessing\\_label.py:268: DataConversionWarning: A column-vector y was passed when a 1d array was expected. Please change the shape of y to (n_samples, ), for example using ravel().\n",
      "  y = column_or_1d(y, warn=True)\n"
     ]
    },
    {
     "name": "stdout",
     "output_type": "stream",
     "text": [
      "Training until validation scores don't improve for 200 rounds\n",
      "[200]\ttraining's binary_logloss: 0.341299\tvalid_1's binary_logloss: 0.342185\n",
      "[400]\ttraining's binary_logloss: 0.338905\tvalid_1's binary_logloss: 0.34211\n",
      "Early stopping, best iteration is:\n",
      "[276]\ttraining's binary_logloss: 0.340316\tvalid_1's binary_logloss: 0.342022\n",
      "err_lgm:  0.8749410516460481\n"
     ]
    },
    {
     "name": "stderr",
     "output_type": "stream",
     "text": [
      "C:\\Users\\Ankit Tyagi\\anaconda3\\lib\\site-packages\\sklearn\\preprocessing\\_label.py:235: DataConversionWarning: A column-vector y was passed when a 1d array was expected. Please change the shape of y to (n_samples, ), for example using ravel().\n",
      "  y = column_or_1d(y, warn=True)\n",
      "C:\\Users\\Ankit Tyagi\\anaconda3\\lib\\site-packages\\sklearn\\preprocessing\\_label.py:268: DataConversionWarning: A column-vector y was passed when a 1d array was expected. Please change the shape of y to (n_samples, ), for example using ravel().\n",
      "  y = column_or_1d(y, warn=True)\n"
     ]
    },
    {
     "name": "stdout",
     "output_type": "stream",
     "text": [
      "Training until validation scores don't improve for 200 rounds\n",
      "[200]\ttraining's binary_logloss: 0.340909\tvalid_1's binary_logloss: 0.347746\n",
      "[400]\ttraining's binary_logloss: 0.338406\tvalid_1's binary_logloss: 0.347947\n",
      "Early stopping, best iteration is:\n",
      "[247]\ttraining's binary_logloss: 0.340253\tvalid_1's binary_logloss: 0.347675\n",
      "err_lgm:  0.86984367164245\n"
     ]
    },
    {
     "name": "stderr",
     "output_type": "stream",
     "text": [
      "C:\\Users\\Ankit Tyagi\\anaconda3\\lib\\site-packages\\sklearn\\preprocessing\\_label.py:235: DataConversionWarning: A column-vector y was passed when a 1d array was expected. Please change the shape of y to (n_samples, ), for example using ravel().\n",
      "  y = column_or_1d(y, warn=True)\n",
      "C:\\Users\\Ankit Tyagi\\anaconda3\\lib\\site-packages\\sklearn\\preprocessing\\_label.py:268: DataConversionWarning: A column-vector y was passed when a 1d array was expected. Please change the shape of y to (n_samples, ), for example using ravel().\n",
      "  y = column_or_1d(y, warn=True)\n"
     ]
    },
    {
     "name": "stdout",
     "output_type": "stream",
     "text": [
      "Training until validation scores don't improve for 200 rounds\n",
      "[200]\ttraining's binary_logloss: 0.341183\tvalid_1's binary_logloss: 0.344229\n",
      "[400]\ttraining's binary_logloss: 0.338717\tvalid_1's binary_logloss: 0.344228\n",
      "Early stopping, best iteration is:\n",
      "[340]\ttraining's binary_logloss: 0.339435\tvalid_1's binary_logloss: 0.344131\n",
      "err_lgm:  0.8753229340130995\n"
     ]
    },
    {
     "name": "stderr",
     "output_type": "stream",
     "text": [
      "C:\\Users\\Ankit Tyagi\\anaconda3\\lib\\site-packages\\sklearn\\preprocessing\\_label.py:235: DataConversionWarning: A column-vector y was passed when a 1d array was expected. Please change the shape of y to (n_samples, ), for example using ravel().\n",
      "  y = column_or_1d(y, warn=True)\n",
      "C:\\Users\\Ankit Tyagi\\anaconda3\\lib\\site-packages\\sklearn\\preprocessing\\_label.py:268: DataConversionWarning: A column-vector y was passed when a 1d array was expected. Please change the shape of y to (n_samples, ), for example using ravel().\n",
      "  y = column_or_1d(y, warn=True)\n"
     ]
    },
    {
     "name": "stdout",
     "output_type": "stream",
     "text": [
      "Training until validation scores don't improve for 200 rounds\n",
      "[200]\ttraining's binary_logloss: 0.341262\tvalid_1's binary_logloss: 0.342433\n",
      "[400]\ttraining's binary_logloss: 0.338811\tvalid_1's binary_logloss: 0.342694\n",
      "Early stopping, best iteration is:\n",
      "[237]\ttraining's binary_logloss: 0.340734\tvalid_1's binary_logloss: 0.342354\n",
      "err_lgm:  0.8760765977279481\n"
     ]
    },
    {
     "name": "stderr",
     "output_type": "stream",
     "text": [
      "C:\\Users\\Ankit Tyagi\\anaconda3\\lib\\site-packages\\sklearn\\preprocessing\\_label.py:235: DataConversionWarning: A column-vector y was passed when a 1d array was expected. Please change the shape of y to (n_samples, ), for example using ravel().\n",
      "  y = column_or_1d(y, warn=True)\n",
      "C:\\Users\\Ankit Tyagi\\anaconda3\\lib\\site-packages\\sklearn\\preprocessing\\_label.py:268: DataConversionWarning: A column-vector y was passed when a 1d array was expected. Please change the shape of y to (n_samples, ), for example using ravel().\n",
      "  y = column_or_1d(y, warn=True)\n"
     ]
    },
    {
     "name": "stdout",
     "output_type": "stream",
     "text": [
      "Training until validation scores don't improve for 200 rounds\n",
      "[200]\ttraining's binary_logloss: 0.341007\tvalid_1's binary_logloss: 0.345032\n",
      "[400]\ttraining's binary_logloss: 0.338528\tvalid_1's binary_logloss: 0.345118\n",
      "Early stopping, best iteration is:\n",
      "[260]\ttraining's binary_logloss: 0.340229\tvalid_1's binary_logloss: 0.344966\n",
      "err_lgm:  0.8749059915333484\n"
     ]
    },
    {
     "name": "stderr",
     "output_type": "stream",
     "text": [
      "C:\\Users\\Ankit Tyagi\\anaconda3\\lib\\site-packages\\sklearn\\preprocessing\\_label.py:235: DataConversionWarning: A column-vector y was passed when a 1d array was expected. Please change the shape of y to (n_samples, ), for example using ravel().\n",
      "  y = column_or_1d(y, warn=True)\n",
      "C:\\Users\\Ankit Tyagi\\anaconda3\\lib\\site-packages\\sklearn\\preprocessing\\_label.py:268: DataConversionWarning: A column-vector y was passed when a 1d array was expected. Please change the shape of y to (n_samples, ), for example using ravel().\n",
      "  y = column_or_1d(y, warn=True)\n"
     ]
    },
    {
     "name": "stdout",
     "output_type": "stream",
     "text": [
      "Training until validation scores don't improve for 200 rounds\n",
      "[200]\ttraining's binary_logloss: 0.340775\tvalid_1's binary_logloss: 0.348555\n",
      "[400]\ttraining's binary_logloss: 0.338303\tvalid_1's binary_logloss: 0.348444\n",
      "[600]\ttraining's binary_logloss: 0.336288\tvalid_1's binary_logloss: 0.348612\n",
      "Early stopping, best iteration is:\n",
      "[469]\ttraining's binary_logloss: 0.337571\tvalid_1's binary_logloss: 0.348363\n",
      "err_lgm:  0.8716949629801742\n"
     ]
    },
    {
     "name": "stderr",
     "output_type": "stream",
     "text": [
      "C:\\Users\\Ankit Tyagi\\anaconda3\\lib\\site-packages\\sklearn\\preprocessing\\_label.py:235: DataConversionWarning: A column-vector y was passed when a 1d array was expected. Please change the shape of y to (n_samples, ), for example using ravel().\n",
      "  y = column_or_1d(y, warn=True)\n",
      "C:\\Users\\Ankit Tyagi\\anaconda3\\lib\\site-packages\\sklearn\\preprocessing\\_label.py:268: DataConversionWarning: A column-vector y was passed when a 1d array was expected. Please change the shape of y to (n_samples, ), for example using ravel().\n",
      "  y = column_or_1d(y, warn=True)\n"
     ]
    },
    {
     "name": "stdout",
     "output_type": "stream",
     "text": [
      "Training until validation scores don't improve for 200 rounds\n",
      "[200]\ttraining's binary_logloss: 0.3415\tvalid_1's binary_logloss: 0.339144\n",
      "[400]\ttraining's binary_logloss: 0.338957\tvalid_1's binary_logloss: 0.338831\n",
      "[600]\ttraining's binary_logloss: 0.336991\tvalid_1's binary_logloss: 0.338738\n",
      "[800]\ttraining's binary_logloss: 0.335353\tvalid_1's binary_logloss: 0.33872\n",
      "Early stopping, best iteration is:\n",
      "[685]\ttraining's binary_logloss: 0.336239\tvalid_1's binary_logloss: 0.338648\n",
      "err_lgm:  0.8780017121566418\n"
     ]
    },
    {
     "name": "stderr",
     "output_type": "stream",
     "text": [
      "C:\\Users\\Ankit Tyagi\\anaconda3\\lib\\site-packages\\sklearn\\preprocessing\\_label.py:235: DataConversionWarning: A column-vector y was passed when a 1d array was expected. Please change the shape of y to (n_samples, ), for example using ravel().\n",
      "  y = column_or_1d(y, warn=True)\n",
      "C:\\Users\\Ankit Tyagi\\anaconda3\\lib\\site-packages\\sklearn\\preprocessing\\_label.py:268: DataConversionWarning: A column-vector y was passed when a 1d array was expected. Please change the shape of y to (n_samples, ), for example using ravel().\n",
      "  y = column_or_1d(y, warn=True)\n"
     ]
    },
    {
     "name": "stdout",
     "output_type": "stream",
     "text": [
      "Training until validation scores don't improve for 200 rounds\n",
      "[200]\ttraining's binary_logloss: 0.341691\tvalid_1's binary_logloss: 0.335714\n",
      "[400]\ttraining's binary_logloss: 0.339168\tvalid_1's binary_logloss: 0.335398\n",
      "[600]\ttraining's binary_logloss: 0.33717\tvalid_1's binary_logloss: 0.3355\n",
      "Early stopping, best iteration is:\n",
      "[476]\ttraining's binary_logloss: 0.338333\tvalid_1's binary_logloss: 0.335312\n",
      "err_lgm:  0.8796632085670089\n"
     ]
    },
    {
     "name": "stderr",
     "output_type": "stream",
     "text": [
      "C:\\Users\\Ankit Tyagi\\anaconda3\\lib\\site-packages\\sklearn\\preprocessing\\_label.py:235: DataConversionWarning: A column-vector y was passed when a 1d array was expected. Please change the shape of y to (n_samples, ), for example using ravel().\n",
      "  y = column_or_1d(y, warn=True)\n",
      "C:\\Users\\Ankit Tyagi\\anaconda3\\lib\\site-packages\\sklearn\\preprocessing\\_label.py:268: DataConversionWarning: A column-vector y was passed when a 1d array was expected. Please change the shape of y to (n_samples, ), for example using ravel().\n",
      "  y = column_or_1d(y, warn=True)\n"
     ]
    },
    {
     "name": "stdout",
     "output_type": "stream",
     "text": [
      "Training until validation scores don't improve for 200 rounds\n",
      "[200]\ttraining's binary_logloss: 0.341398\tvalid_1's binary_logloss: 0.339962\n",
      "[400]\ttraining's binary_logloss: 0.338925\tvalid_1's binary_logloss: 0.339974\n",
      "Early stopping, best iteration is:\n",
      "[249]\ttraining's binary_logloss: 0.340766\tvalid_1's binary_logloss: 0.339895\n",
      "err_lgm:  0.8767797391730754\n"
     ]
    },
    {
     "name": "stderr",
     "output_type": "stream",
     "text": [
      "C:\\Users\\Ankit Tyagi\\anaconda3\\lib\\site-packages\\sklearn\\preprocessing\\_label.py:235: DataConversionWarning: A column-vector y was passed when a 1d array was expected. Please change the shape of y to (n_samples, ), for example using ravel().\n",
      "  y = column_or_1d(y, warn=True)\n",
      "C:\\Users\\Ankit Tyagi\\anaconda3\\lib\\site-packages\\sklearn\\preprocessing\\_label.py:268: DataConversionWarning: A column-vector y was passed when a 1d array was expected. Please change the shape of y to (n_samples, ), for example using ravel().\n",
      "  y = column_or_1d(y, warn=True)\n"
     ]
    },
    {
     "name": "stdout",
     "output_type": "stream",
     "text": [
      "Training until validation scores don't improve for 200 rounds\n",
      "[200]\ttraining's binary_logloss: 0.340905\tvalid_1's binary_logloss: 0.347697\n",
      "[400]\ttraining's binary_logloss: 0.338382\tvalid_1's binary_logloss: 0.347531\n",
      "Early stopping, best iteration is:\n",
      "[360]\ttraining's binary_logloss: 0.338866\tvalid_1's binary_logloss: 0.347465\n",
      "err_lgm:  0.8714798734728064\n"
     ]
    }
   ],
   "source": [
    "# Train LGBM classifier using 15 Stratified K Fold\n",
    "err = []\n",
    "y_pred_tot_lgm = []\n",
    "\n",
    "from sklearn.model_selection import StratifiedKFold\n",
    "\n",
    "fold = StratifiedKFold(n_splits=15)\n",
    "i = 1\n",
    "for train_index, test_index in fold.split(X, y):\n",
    "    x_train, x_val = X.iloc[train_index], X.iloc[test_index]\n",
    "    y_train, y_val = y.iloc[train_index], y.iloc[test_index]\n",
    "    m = LGBMClassifier(boosting_type='gbdt',\n",
    "                       max_depth=5,\n",
    "                       learning_rate=0.05,\n",
    "                       n_estimators=5000,\n",
    "                       min_child_weight=0.01,\n",
    "                       colsample_bytree=0.5,\n",
    "                       random_state=1994)\n",
    "    m.fit(x_train, y_train,\n",
    "          eval_set=[(x_train,y_train),(x_val, y_val)],\n",
    "          early_stopping_rounds=200,\n",
    "          eval_metric='auc_roc',\n",
    "          verbose=200)\n",
    "    pred_y = m.predict_proba(x_val)[:,1]\n",
    "    print(\"err_lgm: \",roc_auc_score(y_val,pred_y))\n",
    "    err.append(roc_auc_score(y_val, pred_y))\n",
    "    pred_test = m.predict_proba(test)[:,1]\n",
    "    i = i + 1\n",
    "    y_pred_tot_lgm.append(pred_test)"
   ]
  },
  {
   "cell_type": "code",
   "execution_count": 189,
   "metadata": {},
   "outputs": [
    {
     "data": {
      "text/plain": [
       "[array([0.05486352, 0.86287812, 0.06291493, ..., 0.08327953, 0.21806178,\n",
       "        0.05410521]),\n",
       " array([0.05203088, 0.85738923, 0.07698576, ..., 0.0934902 , 0.21314308,\n",
       "        0.05564286]),\n",
       " array([0.05104284, 0.85957454, 0.05260205, ..., 0.08598453, 0.21947747,\n",
       "        0.05209511]),\n",
       " array([0.05402753, 0.87574113, 0.08235623, ..., 0.08945669, 0.21900187,\n",
       "        0.05292967]),\n",
       " array([0.05370543, 0.85834025, 0.07560622, ..., 0.0854134 , 0.22394225,\n",
       "        0.05400613]),\n",
       " array([0.05516788, 0.85995701, 0.06307433, ..., 0.09088044, 0.22381463,\n",
       "        0.05174092]),\n",
       " array([0.05282266, 0.85622453, 0.05412761, ..., 0.0885119 , 0.21747841,\n",
       "        0.052644  ]),\n",
       " array([0.05308958, 0.85688267, 0.06617178, ..., 0.07895637, 0.21607957,\n",
       "        0.05143071]),\n",
       " array([0.0551657 , 0.85789584, 0.05383255, ..., 0.08545194, 0.21876029,\n",
       "        0.05468057]),\n",
       " array([0.0538446 , 0.8585467 , 0.07426541, ..., 0.09413339, 0.22365661,\n",
       "        0.05316349]),\n",
       " array([0.04375927, 0.87647527, 0.065056  , ..., 0.07858056, 0.21717888,\n",
       "        0.05600559]),\n",
       " array([0.05062812, 0.86433383, 0.06661905, ..., 0.08216853, 0.2183082 ,\n",
       "        0.05414703]),\n",
       " array([0.05259617, 0.86605437, 0.08545447, ..., 0.08171133, 0.22172517,\n",
       "        0.05291778]),\n",
       " array([0.05539123, 0.86337527, 0.05554074, ..., 0.08657589, 0.2222983 ,\n",
       "        0.05224835]),\n",
       " array([0.0504909 , 0.86675235, 0.074788  , ..., 0.08393865, 0.21843939,\n",
       "        0.05317058])]"
      ]
     },
     "execution_count": 189,
     "metadata": {},
     "output_type": "execute_result"
    }
   ],
   "source": [
    "y_pred_tot_lgm"
   ]
  },
  {
   "cell_type": "code",
   "execution_count": 117,
   "metadata": {},
   "outputs": [
    {
     "data": {
      "text/plain": [
       "0.8742600068652808"
      ]
     },
     "execution_count": 117,
     "metadata": {},
     "output_type": "execute_result"
    }
   ],
   "source": [
    "np.mean(err,0)           # Mean AUC score of stratified K Fold data"
   ]
  },
  {
   "cell_type": "code",
   "execution_count": 238,
   "metadata": {},
   "outputs": [
    {
     "name": "stderr",
     "output_type": "stream",
     "text": [
      "C:\\Users\\Ankit Tyagi\\anaconda3\\lib\\site-packages\\sklearn\\preprocessing\\_label.py:235: DataConversionWarning: A column-vector y was passed when a 1d array was expected. Please change the shape of y to (n_samples, ), for example using ravel().\n",
      "  y = column_or_1d(y, warn=True)\n",
      "C:\\Users\\Ankit Tyagi\\anaconda3\\lib\\site-packages\\sklearn\\preprocessing\\_label.py:268: DataConversionWarning: A column-vector y was passed when a 1d array was expected. Please change the shape of y to (n_samples, ), for example using ravel().\n",
      "  y = column_or_1d(y, warn=True)\n"
     ]
    },
    {
     "name": "stdout",
     "output_type": "stream",
     "text": [
      "[17:07:08] WARNING: C:\\Users\\Administrator\\workspace\\xgboost-win64_release_1.2.0\\src\\learner.cc:516: \n",
      "Parameters: { boosting_type } might not be used.\n",
      "\n",
      "  This may not be accurate due to some parameters are only used in language bindings but\n",
      "  passed down to XGBoost core.  Or some parameters are not used but slip through this\n",
      "  verification. Please open an issue if you find above cases.\n",
      "\n",
      "\n",
      "[0]\tvalidation_0-auc:0.84738\tvalidation_1-auc:0.84729\n",
      "Multiple eval metrics have been passed: 'validation_1-auc' will be used for early stopping.\n",
      "\n",
      "Will train until validation_1-auc hasn't improved in 200 rounds.\n",
      "[200]\tvalidation_0-auc:0.87467\tvalidation_1-auc:0.87173\n",
      "[400]\tvalidation_0-auc:0.87653\tvalidation_1-auc:0.87221\n",
      "[600]\tvalidation_0-auc:0.87785\tvalidation_1-auc:0.87225\n",
      "Stopping. Best iteration:\n",
      "[494]\tvalidation_0-auc:0.87716\tvalidation_1-auc:0.87234\n",
      "\n",
      "err_xgb:  0.8723379953020892\n"
     ]
    },
    {
     "name": "stderr",
     "output_type": "stream",
     "text": [
      "C:\\Users\\Ankit Tyagi\\anaconda3\\lib\\site-packages\\sklearn\\preprocessing\\_label.py:235: DataConversionWarning: A column-vector y was passed when a 1d array was expected. Please change the shape of y to (n_samples, ), for example using ravel().\n",
      "  y = column_or_1d(y, warn=True)\n",
      "C:\\Users\\Ankit Tyagi\\anaconda3\\lib\\site-packages\\sklearn\\preprocessing\\_label.py:268: DataConversionWarning: A column-vector y was passed when a 1d array was expected. Please change the shape of y to (n_samples, ), for example using ravel().\n",
      "  y = column_or_1d(y, warn=True)\n"
     ]
    },
    {
     "name": "stdout",
     "output_type": "stream",
     "text": [
      "[17:08:07] WARNING: C:\\Users\\Administrator\\workspace\\xgboost-win64_release_1.2.0\\src\\learner.cc:516: \n",
      "Parameters: { boosting_type } might not be used.\n",
      "\n",
      "  This may not be accurate due to some parameters are only used in language bindings but\n",
      "  passed down to XGBoost core.  Or some parameters are not used but slip through this\n",
      "  verification. Please open an issue if you find above cases.\n",
      "\n",
      "\n",
      "[0]\tvalidation_0-auc:0.84759\tvalidation_1-auc:0.84468\n",
      "Multiple eval metrics have been passed: 'validation_1-auc' will be used for early stopping.\n",
      "\n",
      "Will train until validation_1-auc hasn't improved in 200 rounds.\n",
      "[200]\tvalidation_0-auc:0.87482\tvalidation_1-auc:0.87233\n",
      "[400]\tvalidation_0-auc:0.87675\tvalidation_1-auc:0.87269\n",
      "[600]\tvalidation_0-auc:0.87806\tvalidation_1-auc:0.87269\n",
      "Stopping. Best iteration:\n",
      "[566]\tvalidation_0-auc:0.87786\tvalidation_1-auc:0.87275\n",
      "\n",
      "err_xgb:  0.8727538875229576\n"
     ]
    },
    {
     "name": "stderr",
     "output_type": "stream",
     "text": [
      "C:\\Users\\Ankit Tyagi\\anaconda3\\lib\\site-packages\\sklearn\\preprocessing\\_label.py:235: DataConversionWarning: A column-vector y was passed when a 1d array was expected. Please change the shape of y to (n_samples, ), for example using ravel().\n",
      "  y = column_or_1d(y, warn=True)\n",
      "C:\\Users\\Ankit Tyagi\\anaconda3\\lib\\site-packages\\sklearn\\preprocessing\\_label.py:268: DataConversionWarning: A column-vector y was passed when a 1d array was expected. Please change the shape of y to (n_samples, ), for example using ravel().\n",
      "  y = column_or_1d(y, warn=True)\n"
     ]
    },
    {
     "name": "stdout",
     "output_type": "stream",
     "text": [
      "[17:09:18] WARNING: C:\\Users\\Administrator\\workspace\\xgboost-win64_release_1.2.0\\src\\learner.cc:516: \n",
      "Parameters: { boosting_type } might not be used.\n",
      "\n",
      "  This may not be accurate due to some parameters are only used in language bindings but\n",
      "  passed down to XGBoost core.  Or some parameters are not used but slip through this\n",
      "  verification. Please open an issue if you find above cases.\n",
      "\n",
      "\n",
      "[0]\tvalidation_0-auc:0.84727\tvalidation_1-auc:0.84880\n",
      "Multiple eval metrics have been passed: 'validation_1-auc' will be used for early stopping.\n",
      "\n",
      "Will train until validation_1-auc hasn't improved in 200 rounds.\n",
      "[200]\tvalidation_0-auc:0.87476\tvalidation_1-auc:0.87208\n",
      "[400]\tvalidation_0-auc:0.87657\tvalidation_1-auc:0.87209\n",
      "Stopping. Best iteration:\n",
      "[227]\tvalidation_0-auc:0.87506\tvalidation_1-auc:0.87223\n",
      "\n",
      "err_xgb:  0.8722295200341618\n"
     ]
    },
    {
     "name": "stderr",
     "output_type": "stream",
     "text": [
      "C:\\Users\\Ankit Tyagi\\anaconda3\\lib\\site-packages\\sklearn\\preprocessing\\_label.py:235: DataConversionWarning: A column-vector y was passed when a 1d array was expected. Please change the shape of y to (n_samples, ), for example using ravel().\n",
      "  y = column_or_1d(y, warn=True)\n",
      "C:\\Users\\Ankit Tyagi\\anaconda3\\lib\\site-packages\\sklearn\\preprocessing\\_label.py:268: DataConversionWarning: A column-vector y was passed when a 1d array was expected. Please change the shape of y to (n_samples, ), for example using ravel().\n",
      "  y = column_or_1d(y, warn=True)\n"
     ]
    },
    {
     "name": "stdout",
     "output_type": "stream",
     "text": [
      "[17:09:57] WARNING: C:\\Users\\Administrator\\workspace\\xgboost-win64_release_1.2.0\\src\\learner.cc:516: \n",
      "Parameters: { boosting_type } might not be used.\n",
      "\n",
      "  This may not be accurate due to some parameters are only used in language bindings but\n",
      "  passed down to XGBoost core.  Or some parameters are not used but slip through this\n",
      "  verification. Please open an issue if you find above cases.\n",
      "\n",
      "\n",
      "[0]\tvalidation_0-auc:0.84771\tvalidation_1-auc:0.84252\n",
      "Multiple eval metrics have been passed: 'validation_1-auc' will be used for early stopping.\n",
      "\n",
      "Will train until validation_1-auc hasn't improved in 200 rounds.\n",
      "[200]\tvalidation_0-auc:0.87466\tvalidation_1-auc:0.87141\n",
      "[400]\tvalidation_0-auc:0.87662\tvalidation_1-auc:0.87220\n",
      "[600]\tvalidation_0-auc:0.87811\tvalidation_1-auc:0.87204\n",
      "Stopping. Best iteration:\n",
      "[420]\tvalidation_0-auc:0.87679\tvalidation_1-auc:0.87226\n",
      "\n",
      "err_xgb:  0.8722599672451026\n"
     ]
    },
    {
     "name": "stderr",
     "output_type": "stream",
     "text": [
      "C:\\Users\\Ankit Tyagi\\anaconda3\\lib\\site-packages\\sklearn\\preprocessing\\_label.py:235: DataConversionWarning: A column-vector y was passed when a 1d array was expected. Please change the shape of y to (n_samples, ), for example using ravel().\n",
      "  y = column_or_1d(y, warn=True)\n",
      "C:\\Users\\Ankit Tyagi\\anaconda3\\lib\\site-packages\\sklearn\\preprocessing\\_label.py:268: DataConversionWarning: A column-vector y was passed when a 1d array was expected. Please change the shape of y to (n_samples, ), for example using ravel().\n",
      "  y = column_or_1d(y, warn=True)\n"
     ]
    },
    {
     "name": "stdout",
     "output_type": "stream",
     "text": [
      "[17:10:52] WARNING: C:\\Users\\Administrator\\workspace\\xgboost-win64_release_1.2.0\\src\\learner.cc:516: \n",
      "Parameters: { boosting_type } might not be used.\n",
      "\n",
      "  This may not be accurate due to some parameters are only used in language bindings but\n",
      "  passed down to XGBoost core.  Or some parameters are not used but slip through this\n",
      "  verification. Please open an issue if you find above cases.\n",
      "\n",
      "\n",
      "[0]\tvalidation_0-auc:0.84720\tvalidation_1-auc:0.85014\n",
      "Multiple eval metrics have been passed: 'validation_1-auc' will be used for early stopping.\n",
      "\n",
      "Will train until validation_1-auc hasn't improved in 200 rounds.\n",
      "[200]\tvalidation_0-auc:0.87457\tvalidation_1-auc:0.87408\n",
      "[400]\tvalidation_0-auc:0.87641\tvalidation_1-auc:0.87476\n",
      "[600]\tvalidation_0-auc:0.87784\tvalidation_1-auc:0.87518\n",
      "[800]\tvalidation_0-auc:0.87908\tvalidation_1-auc:0.87518\n",
      "Stopping. Best iteration:\n",
      "[777]\tvalidation_0-auc:0.87891\tvalidation_1-auc:0.87527\n",
      "\n",
      "err_xgb:  0.8752736439222053\n"
     ]
    },
    {
     "name": "stderr",
     "output_type": "stream",
     "text": [
      "C:\\Users\\Ankit Tyagi\\anaconda3\\lib\\site-packages\\sklearn\\preprocessing\\_label.py:235: DataConversionWarning: A column-vector y was passed when a 1d array was expected. Please change the shape of y to (n_samples, ), for example using ravel().\n",
      "  y = column_or_1d(y, warn=True)\n",
      "C:\\Users\\Ankit Tyagi\\anaconda3\\lib\\site-packages\\sklearn\\preprocessing\\_label.py:268: DataConversionWarning: A column-vector y was passed when a 1d array was expected. Please change the shape of y to (n_samples, ), for example using ravel().\n",
      "  y = column_or_1d(y, warn=True)\n"
     ]
    },
    {
     "name": "stdout",
     "output_type": "stream",
     "text": [
      "[17:12:24] WARNING: C:\\Users\\Administrator\\workspace\\xgboost-win64_release_1.2.0\\src\\learner.cc:516: \n",
      "Parameters: { boosting_type } might not be used.\n",
      "\n",
      "  This may not be accurate due to some parameters are only used in language bindings but\n",
      "  passed down to XGBoost core.  Or some parameters are not used but slip through this\n",
      "  verification. Please open an issue if you find above cases.\n",
      "\n",
      "\n",
      "[0]\tvalidation_0-auc:0.84727\tvalidation_1-auc:0.84876\n",
      "Multiple eval metrics have been passed: 'validation_1-auc' will be used for early stopping.\n",
      "\n",
      "Will train until validation_1-auc hasn't improved in 200 rounds.\n",
      "[200]\tvalidation_0-auc:0.87459\tvalidation_1-auc:0.87383\n",
      "[400]\tvalidation_0-auc:0.87642\tvalidation_1-auc:0.87416\n",
      "[600]\tvalidation_0-auc:0.87786\tvalidation_1-auc:0.87467\n",
      "[800]\tvalidation_0-auc:0.87898\tvalidation_1-auc:0.87472\n",
      "[1000]\tvalidation_0-auc:0.88003\tvalidation_1-auc:0.87474\n",
      "Stopping. Best iteration:\n",
      "[922]\tvalidation_0-auc:0.87958\tvalidation_1-auc:0.87480\n",
      "\n",
      "err_xgb:  0.8748018202675089\n"
     ]
    },
    {
     "name": "stderr",
     "output_type": "stream",
     "text": [
      "C:\\Users\\Ankit Tyagi\\anaconda3\\lib\\site-packages\\sklearn\\preprocessing\\_label.py:235: DataConversionWarning: A column-vector y was passed when a 1d array was expected. Please change the shape of y to (n_samples, ), for example using ravel().\n",
      "  y = column_or_1d(y, warn=True)\n",
      "C:\\Users\\Ankit Tyagi\\anaconda3\\lib\\site-packages\\sklearn\\preprocessing\\_label.py:268: DataConversionWarning: A column-vector y was passed when a 1d array was expected. Please change the shape of y to (n_samples, ), for example using ravel().\n",
      "  y = column_or_1d(y, warn=True)\n"
     ]
    },
    {
     "name": "stdout",
     "output_type": "stream",
     "text": [
      "[17:14:13] WARNING: C:\\Users\\Administrator\\workspace\\xgboost-win64_release_1.2.0\\src\\learner.cc:516: \n",
      "Parameters: { boosting_type } might not be used.\n",
      "\n",
      "  This may not be accurate due to some parameters are only used in language bindings but\n",
      "  passed down to XGBoost core.  Or some parameters are not used but slip through this\n",
      "  verification. Please open an issue if you find above cases.\n",
      "\n",
      "\n",
      "[0]\tvalidation_0-auc:0.84757\tvalidation_1-auc:0.84460\n",
      "Multiple eval metrics have been passed: 'validation_1-auc' will be used for early stopping.\n",
      "\n",
      "Will train until validation_1-auc hasn't improved in 200 rounds.\n",
      "[200]\tvalidation_0-auc:0.87503\tvalidation_1-auc:0.86907\n",
      "[400]\tvalidation_0-auc:0.87692\tvalidation_1-auc:0.86913\n",
      "Stopping. Best iteration:\n",
      "[347]\tvalidation_0-auc:0.87649\tvalidation_1-auc:0.86928\n",
      "\n",
      "err_xgb:  0.8692753065437964\n"
     ]
    },
    {
     "name": "stderr",
     "output_type": "stream",
     "text": [
      "C:\\Users\\Ankit Tyagi\\anaconda3\\lib\\site-packages\\sklearn\\preprocessing\\_label.py:235: DataConversionWarning: A column-vector y was passed when a 1d array was expected. Please change the shape of y to (n_samples, ), for example using ravel().\n",
      "  y = column_or_1d(y, warn=True)\n",
      "C:\\Users\\Ankit Tyagi\\anaconda3\\lib\\site-packages\\sklearn\\preprocessing\\_label.py:268: DataConversionWarning: A column-vector y was passed when a 1d array was expected. Please change the shape of y to (n_samples, ), for example using ravel().\n",
      "  y = column_or_1d(y, warn=True)\n"
     ]
    },
    {
     "name": "stdout",
     "output_type": "stream",
     "text": [
      "[17:15:07] WARNING: C:\\Users\\Administrator\\workspace\\xgboost-win64_release_1.2.0\\src\\learner.cc:516: \n",
      "Parameters: { boosting_type } might not be used.\n",
      "\n",
      "  This may not be accurate due to some parameters are only used in language bindings but\n",
      "  passed down to XGBoost core.  Or some parameters are not used but slip through this\n",
      "  verification. Please open an issue if you find above cases.\n",
      "\n",
      "\n",
      "[0]\tvalidation_0-auc:0.84738\tvalidation_1-auc:0.84724\n",
      "Multiple eval metrics have been passed: 'validation_1-auc' will be used for early stopping.\n",
      "\n",
      "Will train until validation_1-auc hasn't improved in 200 rounds.\n",
      "[200]\tvalidation_0-auc:0.87456\tvalidation_1-auc:0.87360\n",
      "[400]\tvalidation_0-auc:0.87651\tvalidation_1-auc:0.87375\n",
      "Stopping. Best iteration:\n",
      "[277]\tvalidation_0-auc:0.87547\tvalidation_1-auc:0.87390\n",
      "\n",
      "err_xgb:  0.8739016454385321\n"
     ]
    },
    {
     "name": "stderr",
     "output_type": "stream",
     "text": [
      "C:\\Users\\Ankit Tyagi\\anaconda3\\lib\\site-packages\\sklearn\\preprocessing\\_label.py:235: DataConversionWarning: A column-vector y was passed when a 1d array was expected. Please change the shape of y to (n_samples, ), for example using ravel().\n",
      "  y = column_or_1d(y, warn=True)\n",
      "C:\\Users\\Ankit Tyagi\\anaconda3\\lib\\site-packages\\sklearn\\preprocessing\\_label.py:268: DataConversionWarning: A column-vector y was passed when a 1d array was expected. Please change the shape of y to (n_samples, ), for example using ravel().\n",
      "  y = column_or_1d(y, warn=True)\n"
     ]
    },
    {
     "name": "stdout",
     "output_type": "stream",
     "text": [
      "[17:15:54] WARNING: C:\\Users\\Administrator\\workspace\\xgboost-win64_release_1.2.0\\src\\learner.cc:516: \n",
      "Parameters: { boosting_type } might not be used.\n",
      "\n",
      "  This may not be accurate due to some parameters are only used in language bindings but\n",
      "  passed down to XGBoost core.  Or some parameters are not used but slip through this\n",
      "  verification. Please open an issue if you find above cases.\n",
      "\n",
      "\n",
      "[0]\tvalidation_0-auc:0.84713\tvalidation_1-auc:0.85079\n",
      "Multiple eval metrics have been passed: 'validation_1-auc' will be used for early stopping.\n",
      "\n",
      "Will train until validation_1-auc hasn't improved in 200 rounds.\n",
      "[200]\tvalidation_0-auc:0.87443\tvalidation_1-auc:0.87650\n",
      "Stopping. Best iteration:\n",
      "[154]\tvalidation_0-auc:0.87378\tvalidation_1-auc:0.87673\n",
      "\n",
      "err_xgb:  0.8767336582189058\n"
     ]
    },
    {
     "name": "stderr",
     "output_type": "stream",
     "text": [
      "C:\\Users\\Ankit Tyagi\\anaconda3\\lib\\site-packages\\sklearn\\preprocessing\\_label.py:235: DataConversionWarning: A column-vector y was passed when a 1d array was expected. Please change the shape of y to (n_samples, ), for example using ravel().\n",
      "  y = column_or_1d(y, warn=True)\n",
      "C:\\Users\\Ankit Tyagi\\anaconda3\\lib\\site-packages\\sklearn\\preprocessing\\_label.py:268: DataConversionWarning: A column-vector y was passed when a 1d array was expected. Please change the shape of y to (n_samples, ), for example using ravel().\n",
      "  y = column_or_1d(y, warn=True)\n"
     ]
    },
    {
     "name": "stdout",
     "output_type": "stream",
     "text": [
      "[17:16:29] WARNING: C:\\Users\\Administrator\\workspace\\xgboost-win64_release_1.2.0\\src\\learner.cc:516: \n",
      "Parameters: { boosting_type } might not be used.\n",
      "\n",
      "  This may not be accurate due to some parameters are only used in language bindings but\n",
      "  passed down to XGBoost core.  Or some parameters are not used but slip through this\n",
      "  verification. Please open an issue if you find above cases.\n",
      "\n",
      "\n",
      "[0]\tvalidation_0-auc:0.84732\tvalidation_1-auc:0.84786\n",
      "Multiple eval metrics have been passed: 'validation_1-auc' will be used for early stopping.\n",
      "\n",
      "Will train until validation_1-auc hasn't improved in 200 rounds.\n",
      "[200]\tvalidation_0-auc:0.87465\tvalidation_1-auc:0.87368\n",
      "[400]\tvalidation_0-auc:0.87659\tvalidation_1-auc:0.87351\n",
      "Stopping. Best iteration:\n",
      "[259]\tvalidation_0-auc:0.87529\tvalidation_1-auc:0.87371\n",
      "\n",
      "err_xgb:  0.8737126400262802\n"
     ]
    },
    {
     "name": "stderr",
     "output_type": "stream",
     "text": [
      "C:\\Users\\Ankit Tyagi\\anaconda3\\lib\\site-packages\\sklearn\\preprocessing\\_label.py:235: DataConversionWarning: A column-vector y was passed when a 1d array was expected. Please change the shape of y to (n_samples, ), for example using ravel().\n",
      "  y = column_or_1d(y, warn=True)\n",
      "C:\\Users\\Ankit Tyagi\\anaconda3\\lib\\site-packages\\sklearn\\preprocessing\\_label.py:268: DataConversionWarning: A column-vector y was passed when a 1d array was expected. Please change the shape of y to (n_samples, ), for example using ravel().\n",
      "  y = column_or_1d(y, warn=True)\n"
     ]
    },
    {
     "name": "stdout",
     "output_type": "stream",
     "text": [
      "[17:17:11] WARNING: C:\\Users\\Administrator\\workspace\\xgboost-win64_release_1.2.0\\src\\learner.cc:516: \n",
      "Parameters: { boosting_type } might not be used.\n",
      "\n",
      "  This may not be accurate due to some parameters are only used in language bindings but\n",
      "  passed down to XGBoost core.  Or some parameters are not used but slip through this\n",
      "  verification. Please open an issue if you find above cases.\n",
      "\n",
      "\n",
      "[0]\tvalidation_0-auc:0.84766\tvalidation_1-auc:0.84333\n",
      "Multiple eval metrics have been passed: 'validation_1-auc' will be used for early stopping.\n",
      "\n",
      "Will train until validation_1-auc hasn't improved in 200 rounds.\n",
      "[200]\tvalidation_0-auc:0.87477\tvalidation_1-auc:0.87073\n",
      "[400]\tvalidation_0-auc:0.87668\tvalidation_1-auc:0.87140\n",
      "[600]\tvalidation_0-auc:0.87807\tvalidation_1-auc:0.87130\n",
      "Stopping. Best iteration:\n",
      "[446]\tvalidation_0-auc:0.87700\tvalidation_1-auc:0.87146\n",
      "\n",
      "err_xgb:  0.8714568327244383\n"
     ]
    },
    {
     "name": "stderr",
     "output_type": "stream",
     "text": [
      "C:\\Users\\Ankit Tyagi\\anaconda3\\lib\\site-packages\\sklearn\\preprocessing\\_label.py:235: DataConversionWarning: A column-vector y was passed when a 1d array was expected. Please change the shape of y to (n_samples, ), for example using ravel().\n",
      "  y = column_or_1d(y, warn=True)\n",
      "C:\\Users\\Ankit Tyagi\\anaconda3\\lib\\site-packages\\sklearn\\preprocessing\\_label.py:268: DataConversionWarning: A column-vector y was passed when a 1d array was expected. Please change the shape of y to (n_samples, ), for example using ravel().\n",
      "  y = column_or_1d(y, warn=True)\n"
     ]
    },
    {
     "name": "stdout",
     "output_type": "stream",
     "text": [
      "[17:18:09] WARNING: C:\\Users\\Administrator\\workspace\\xgboost-win64_release_1.2.0\\src\\learner.cc:516: \n",
      "Parameters: { boosting_type } might not be used.\n",
      "\n",
      "  This may not be accurate due to some parameters are only used in language bindings but\n",
      "  passed down to XGBoost core.  Or some parameters are not used but slip through this\n",
      "  verification. Please open an issue if you find above cases.\n",
      "\n",
      "\n",
      "[0]\tvalidation_0-auc:0.84730\tvalidation_1-auc:0.84881\n",
      "Multiple eval metrics have been passed: 'validation_1-auc' will be used for early stopping.\n",
      "\n",
      "Will train until validation_1-auc hasn't improved in 200 rounds.\n",
      "[200]\tvalidation_0-auc:0.87445\tvalidation_1-auc:0.87570\n",
      "[400]\tvalidation_0-auc:0.87636\tvalidation_1-auc:0.87565\n",
      "[600]\tvalidation_0-auc:0.87773\tvalidation_1-auc:0.87572\n",
      "Stopping. Best iteration:\n",
      "[470]\tvalidation_0-auc:0.87689\tvalidation_1-auc:0.87580\n",
      "\n",
      "err_xgb:  0.8757983198124044\n"
     ]
    },
    {
     "name": "stderr",
     "output_type": "stream",
     "text": [
      "C:\\Users\\Ankit Tyagi\\anaconda3\\lib\\site-packages\\sklearn\\preprocessing\\_label.py:235: DataConversionWarning: A column-vector y was passed when a 1d array was expected. Please change the shape of y to (n_samples, ), for example using ravel().\n",
      "  y = column_or_1d(y, warn=True)\n",
      "C:\\Users\\Ankit Tyagi\\anaconda3\\lib\\site-packages\\sklearn\\preprocessing\\_label.py:268: DataConversionWarning: A column-vector y was passed when a 1d array was expected. Please change the shape of y to (n_samples, ), for example using ravel().\n",
      "  y = column_or_1d(y, warn=True)\n"
     ]
    },
    {
     "name": "stdout",
     "output_type": "stream",
     "text": [
      "[17:19:08] WARNING: C:\\Users\\Administrator\\workspace\\xgboost-win64_release_1.2.0\\src\\learner.cc:516: \n",
      "Parameters: { boosting_type } might not be used.\n",
      "\n",
      "  This may not be accurate due to some parameters are only used in language bindings but\n",
      "  passed down to XGBoost core.  Or some parameters are not used but slip through this\n",
      "  verification. Please open an issue if you find above cases.\n",
      "\n",
      "\n",
      "[0]\tvalidation_0-auc:0.84691\tvalidation_1-auc:0.85387\n",
      "Multiple eval metrics have been passed: 'validation_1-auc' will be used for early stopping.\n",
      "\n",
      "Will train until validation_1-auc hasn't improved in 200 rounds.\n",
      "[200]\tvalidation_0-auc:0.87429\tvalidation_1-auc:0.87937\n",
      "[400]\tvalidation_0-auc:0.87625\tvalidation_1-auc:0.87955\n",
      "[600]\tvalidation_0-auc:0.87759\tvalidation_1-auc:0.87980\n",
      "[800]\tvalidation_0-auc:0.87879\tvalidation_1-auc:0.87986\n",
      "[1000]\tvalidation_0-auc:0.87989\tvalidation_1-auc:0.87992\n",
      "Stopping. Best iteration:\n",
      "[952]\tvalidation_0-auc:0.87968\tvalidation_1-auc:0.87997\n",
      "\n",
      "err_xgb:  0.8799711855920958\n"
     ]
    },
    {
     "name": "stderr",
     "output_type": "stream",
     "text": [
      "C:\\Users\\Ankit Tyagi\\anaconda3\\lib\\site-packages\\sklearn\\preprocessing\\_label.py:235: DataConversionWarning: A column-vector y was passed when a 1d array was expected. Please change the shape of y to (n_samples, ), for example using ravel().\n",
      "  y = column_or_1d(y, warn=True)\n",
      "C:\\Users\\Ankit Tyagi\\anaconda3\\lib\\site-packages\\sklearn\\preprocessing\\_label.py:268: DataConversionWarning: A column-vector y was passed when a 1d array was expected. Please change the shape of y to (n_samples, ), for example using ravel().\n",
      "  y = column_or_1d(y, warn=True)\n"
     ]
    },
    {
     "name": "stdout",
     "output_type": "stream",
     "text": [
      "[17:20:50] WARNING: C:\\Users\\Administrator\\workspace\\xgboost-win64_release_1.2.0\\src\\learner.cc:516: \n",
      "Parameters: { boosting_type } might not be used.\n",
      "\n",
      "  This may not be accurate due to some parameters are only used in language bindings but\n",
      "  passed down to XGBoost core.  Or some parameters are not used but slip through this\n",
      "  verification. Please open an issue if you find above cases.\n",
      "\n",
      "\n",
      "[0]\tvalidation_0-auc:0.84743\tvalidation_1-auc:0.84697\n",
      "Multiple eval metrics have been passed: 'validation_1-auc' will be used for early stopping.\n",
      "\n",
      "Will train until validation_1-auc hasn't improved in 200 rounds.\n",
      "[200]\tvalidation_0-auc:0.87450\tvalidation_1-auc:0.87566\n",
      "[400]\tvalidation_0-auc:0.87637\tvalidation_1-auc:0.87611\n",
      "[600]\tvalidation_0-auc:0.87782\tvalidation_1-auc:0.87628\n",
      "Stopping. Best iteration:\n",
      "[590]\tvalidation_0-auc:0.87776\tvalidation_1-auc:0.87632\n",
      "\n",
      "err_xgb:  0.8763186798136651\n"
     ]
    },
    {
     "name": "stderr",
     "output_type": "stream",
     "text": [
      "C:\\Users\\Ankit Tyagi\\anaconda3\\lib\\site-packages\\sklearn\\preprocessing\\_label.py:235: DataConversionWarning: A column-vector y was passed when a 1d array was expected. Please change the shape of y to (n_samples, ), for example using ravel().\n",
      "  y = column_or_1d(y, warn=True)\n",
      "C:\\Users\\Ankit Tyagi\\anaconda3\\lib\\site-packages\\sklearn\\preprocessing\\_label.py:268: DataConversionWarning: A column-vector y was passed when a 1d array was expected. Please change the shape of y to (n_samples, ), for example using ravel().\n",
      "  y = column_or_1d(y, warn=True)\n"
     ]
    },
    {
     "name": "stdout",
     "output_type": "stream",
     "text": [
      "[17:22:02] WARNING: C:\\Users\\Administrator\\workspace\\xgboost-win64_release_1.2.0\\src\\learner.cc:516: \n",
      "Parameters: { boosting_type } might not be used.\n",
      "\n",
      "  This may not be accurate due to some parameters are only used in language bindings but\n",
      "  passed down to XGBoost core.  Or some parameters are not used but slip through this\n",
      "  verification. Please open an issue if you find above cases.\n",
      "\n",
      "\n",
      "[0]\tvalidation_0-auc:0.84759\tvalidation_1-auc:0.84428\n",
      "Multiple eval metrics have been passed: 'validation_1-auc' will be used for early stopping.\n",
      "\n",
      "Will train until validation_1-auc hasn't improved in 200 rounds.\n",
      "[200]\tvalidation_0-auc:0.87485\tvalidation_1-auc:0.86987\n",
      "[400]\tvalidation_0-auc:0.87666\tvalidation_1-auc:0.87038\n",
      "[600]\tvalidation_0-auc:0.87811\tvalidation_1-auc:0.87039\n",
      "Stopping. Best iteration:\n",
      "[446]\tvalidation_0-auc:0.87704\tvalidation_1-auc:0.87052\n",
      "\n",
      "err_xgb:  0.8705200144906134\n"
     ]
    }
   ],
   "source": [
    "# Train XGBOOST classifier\n",
    "from xgboost import XGBClassifier\n",
    "\n",
    "errxgb = []\n",
    "y_pred_tot_xgb = []\n",
    "\n",
    "from sklearn.model_selection import KFold,StratifiedKFold\n",
    "\n",
    "fold = StratifiedKFold(n_splits=15)\n",
    "i = 1\n",
    "for train_index, test_index in fold.split(X,y):\n",
    "    x_train, x_val = X.iloc[train_index], X.iloc[test_index]\n",
    "    y_train, y_val = y.iloc[train_index], y.iloc[test_index]\n",
    "    m = XGBClassifier(boosting_type='gbdt',\n",
    "                      max_depth=3,\n",
    "                      learning_rate=0.07,\n",
    "                      n_estimators=5000,\n",
    "                      random_state=1994)\n",
    "    m.fit(x_train, y_train,\n",
    "          eval_set=[(x_train,y_train),(x_val, y_val)],\n",
    "          early_stopping_rounds=200,\n",
    "          eval_metric='auc',\n",
    "          verbose=200)\n",
    "    pred_y = m.predict_proba(x_val)[:,-1]\n",
    "    print(\"err_xgb: \",roc_auc_score(y_val,pred_y))\n",
    "    errxgb.append(roc_auc_score(y_val, pred_y))\n",
    "    pred_test = m.predict_proba(test)[:,-1]\n",
    "    i = i + 1\n",
    "    y_pred_tot_xgb.append(pred_test)"
   ]
  },
  {
   "cell_type": "code",
   "execution_count": 192,
   "metadata": {},
   "outputs": [
    {
     "data": {
      "text/plain": [
       "0.8744906064145135"
      ]
     },
     "execution_count": 192,
     "metadata": {},
     "output_type": "execute_result"
    }
   ],
   "source": [
    "np.mean(errxgb,0)      # Mean AUC score of stratified K Fold data"
   ]
  },
  {
   "cell_type": "code",
   "execution_count": 123,
   "metadata": {},
   "outputs": [
    {
     "name": "stdout",
     "output_type": "stream",
     "text": [
      "0:\ttest: 0.8610855\ttest1: 0.8598705\tbest: 0.8598705 (0)\ttotal: 211ms\tremaining: 17m 33s\n",
      "200:\ttest: 0.8735177\ttest1: 0.8713519\tbest: 0.8713519 (200)\ttotal: 7.68s\tremaining: 3m 3s\n",
      "400:\ttest: 0.8752255\ttest1: 0.8720333\tbest: 0.8720427 (387)\ttotal: 15.3s\tremaining: 2m 54s\n",
      "600:\ttest: 0.8766330\ttest1: 0.8724679\tbest: 0.8724788 (569)\ttotal: 22.9s\tremaining: 2m 47s\n",
      "800:\ttest: 0.8776820\ttest1: 0.8725033\tbest: 0.8725645 (774)\ttotal: 30.9s\tremaining: 2m 41s\n",
      "1000:\ttest: 0.8786076\ttest1: 0.8725756\tbest: 0.8726120 (922)\ttotal: 38.6s\tremaining: 2m 34s\n",
      "1200:\ttest: 0.8794677\ttest1: 0.8726078\tbest: 0.8726615 (1175)\ttotal: 46.5s\tremaining: 2m 27s\n",
      "1400:\ttest: 0.8802682\ttest1: 0.8727502\tbest: 0.8727755 (1373)\ttotal: 54.3s\tremaining: 2m 19s\n",
      "1600:\ttest: 0.8810352\ttest1: 0.8728744\tbest: 0.8728744 (1600)\ttotal: 1m 2s\tremaining: 2m 11s\n",
      "1800:\ttest: 0.8817184\ttest1: 0.8728899\tbest: 0.8729526 (1709)\ttotal: 1m 9s\tremaining: 2m 3s\n",
      "Stopped by overfitting detector  (200 iterations wait)\n",
      "\n",
      "bestTest = 0.8729525924\n",
      "bestIteration = 1709\n",
      "\n",
      "Shrink model to first 1710 iterations.\n",
      "err_cb:  0.87295259238489\n",
      "0:\ttest: 0.8611536\ttest1: 0.8589589\tbest: 0.8589589 (0)\ttotal: 62.6ms\tremaining: 5m 12s\n",
      "200:\ttest: 0.8735891\ttest1: 0.8712067\tbest: 0.8712097 (199)\ttotal: 7.8s\tremaining: 3m 6s\n",
      "400:\ttest: 0.8753643\ttest1: 0.8724047\tbest: 0.8724319 (388)\ttotal: 15.6s\tremaining: 2m 59s\n",
      "600:\ttest: 0.8767559\ttest1: 0.8724775\tbest: 0.8725017 (429)\ttotal: 23.4s\tremaining: 2m 51s\n",
      "800:\ttest: 0.8779222\ttest1: 0.8725877\tbest: 0.8726260 (791)\ttotal: 31.3s\tremaining: 2m 43s\n",
      "Stopped by overfitting detector  (200 iterations wait)\n",
      "\n",
      "bestTest = 0.8726259516\n",
      "bestIteration = 791\n",
      "\n",
      "Shrink model to first 792 iterations.\n",
      "err_cb:  0.8726259515757342\n",
      "0:\ttest: 0.8609610\ttest1: 0.8616284\tbest: 0.8616284 (0)\ttotal: 48.6ms\tremaining: 4m 2s\n",
      "200:\ttest: 0.8736203\ttest1: 0.8716117\tbest: 0.8716117 (200)\ttotal: 7.85s\tremaining: 3m 7s\n",
      "400:\ttest: 0.8752900\ttest1: 0.8725397\tbest: 0.8725477 (399)\ttotal: 15.6s\tremaining: 2m 58s\n",
      "600:\ttest: 0.8766570\ttest1: 0.8729576\tbest: 0.8729828 (578)\ttotal: 23.7s\tremaining: 2m 53s\n",
      "800:\ttest: 0.8777142\ttest1: 0.8730412\tbest: 0.8730887 (769)\ttotal: 31.7s\tremaining: 2m 46s\n",
      "Stopped by overfitting detector  (200 iterations wait)\n",
      "\n",
      "bestTest = 0.8730886627\n",
      "bestIteration = 769\n",
      "\n",
      "Shrink model to first 770 iterations.\n",
      "err_cb:  0.8730886626901257\n",
      "0:\ttest: 0.8609732\ttest1: 0.8576236\tbest: 0.8576236 (0)\ttotal: 32.5ms\tremaining: 2m 42s\n",
      "200:\ttest: 0.8736033\ttest1: 0.8702600\tbest: 0.8702647 (199)\ttotal: 7.59s\tremaining: 3m 1s\n",
      "400:\ttest: 0.8752614\ttest1: 0.8716732\tbest: 0.8716753 (391)\ttotal: 15.2s\tremaining: 2m 54s\n",
      "600:\ttest: 0.8765702\ttest1: 0.8720506\tbest: 0.8720506 (600)\ttotal: 22.9s\tremaining: 2m 47s\n",
      "800:\ttest: 0.8776753\ttest1: 0.8722320\tbest: 0.8722672 (789)\ttotal: 30.7s\tremaining: 2m 40s\n",
      "1000:\ttest: 0.8786525\ttest1: 0.8724307\tbest: 0.8724770 (988)\ttotal: 38.6s\tremaining: 2m 34s\n",
      "1200:\ttest: 0.8795406\ttest1: 0.8725995\tbest: 0.8726029 (1198)\ttotal: 46.5s\tremaining: 2m 26s\n",
      "1400:\ttest: 0.8803399\ttest1: 0.8728057\tbest: 0.8728057 (1400)\ttotal: 54.3s\tremaining: 2m 19s\n",
      "1600:\ttest: 0.8810756\ttest1: 0.8727600\tbest: 0.8728171 (1428)\ttotal: 1m 2s\tremaining: 2m 11s\n",
      "Stopped by overfitting detector  (200 iterations wait)\n",
      "\n",
      "bestTest = 0.8728170575\n",
      "bestIteration = 1428\n",
      "\n",
      "Shrink model to first 1429 iterations.\n",
      "err_cb:  0.8728170575057512\n",
      "0:\ttest: 0.8610496\ttest1: 0.8603828\tbest: 0.8603828 (0)\ttotal: 31.9ms\tremaining: 2m 39s\n",
      "200:\ttest: 0.8733590\ttest1: 0.8735455\tbest: 0.8735520 (199)\ttotal: 7.53s\tremaining: 2m 59s\n",
      "400:\ttest: 0.8750540\ttest1: 0.8742592\tbest: 0.8742592 (400)\ttotal: 15.2s\tremaining: 2m 53s\n",
      "600:\ttest: 0.8763777\ttest1: 0.8747316\tbest: 0.8747339 (599)\ttotal: 22.9s\tremaining: 2m 47s\n",
      "800:\ttest: 0.8774888\ttest1: 0.8750877\tbest: 0.8751047 (756)\ttotal: 30.7s\tremaining: 2m 40s\n",
      "1000:\ttest: 0.8784187\ttest1: 0.8752627\tbest: 0.8753194 (974)\ttotal: 38.6s\tremaining: 2m 34s\n",
      "Stopped by overfitting detector  (200 iterations wait)\n",
      "\n",
      "bestTest = 0.8753194126\n",
      "bestIteration = 974\n",
      "\n",
      "Shrink model to first 975 iterations.\n",
      "err_cb:  0.8753194125568459\n",
      "0:\ttest: 0.8609132\ttest1: 0.8622797\tbest: 0.8622797 (0)\ttotal: 31.2ms\tremaining: 2m 36s\n",
      "200:\ttest: 0.8734149\ttest1: 0.8736129\tbest: 0.8736129 (200)\ttotal: 7.94s\tremaining: 3m 9s\n",
      "400:\ttest: 0.8750986\ttest1: 0.8743678\tbest: 0.8743678 (400)\ttotal: 15.7s\tremaining: 3m\n",
      "600:\ttest: 0.8764254\ttest1: 0.8747531\tbest: 0.8747805 (584)\ttotal: 23.5s\tremaining: 2m 51s\n",
      "800:\ttest: 0.8775487\ttest1: 0.8749561\tbest: 0.8749567 (795)\ttotal: 31.5s\tremaining: 2m 45s\n",
      "1000:\ttest: 0.8784592\ttest1: 0.8752779\tbest: 0.8752835 (971)\ttotal: 39.6s\tremaining: 2m 38s\n",
      "1200:\ttest: 0.8793428\ttest1: 0.8754562\tbest: 0.8754579 (1186)\ttotal: 47.5s\tremaining: 2m 30s\n",
      "1400:\ttest: 0.8800998\ttest1: 0.8755228\tbest: 0.8755923 (1341)\ttotal: 55.5s\tremaining: 2m 22s\n",
      "1600:\ttest: 0.8807966\ttest1: 0.8756060\tbest: 0.8756622 (1566)\ttotal: 1m 3s\tremaining: 2m 14s\n",
      "Stopped by overfitting detector  (200 iterations wait)\n",
      "\n",
      "bestTest = 0.8756621779\n",
      "bestIteration = 1566\n",
      "\n",
      "Shrink model to first 1567 iterations.\n",
      "err_cb:  0.8756621779288467\n",
      "0:\ttest: 0.8612868\ttest1: 0.8570664\tbest: 0.8570664 (0)\ttotal: 49.8ms\tremaining: 4m 8s\n",
      "200:\ttest: 0.8737535\ttest1: 0.8684584\tbest: 0.8684584 (200)\ttotal: 8.35s\tremaining: 3m 19s\n",
      "400:\ttest: 0.8756000\ttest1: 0.8691777\tbest: 0.8691847 (399)\ttotal: 17.2s\tremaining: 3m 16s\n",
      "600:\ttest: 0.8770011\ttest1: 0.8694712\tbest: 0.8694741 (598)\ttotal: 27s\tremaining: 3m 17s\n",
      "800:\ttest: 0.8780458\ttest1: 0.8695488\tbest: 0.8696100 (768)\ttotal: 36.3s\tremaining: 3m 10s\n",
      "Stopped by overfitting detector  (200 iterations wait)\n",
      "\n",
      "bestTest = 0.8696099993\n",
      "bestIteration = 768\n",
      "\n",
      "Shrink model to first 769 iterations.\n",
      "err_cb:  0.8696099993377191\n",
      "0:\ttest: 0.8610433\ttest1: 0.8604631\tbest: 0.8604631 (0)\ttotal: 32.7ms\tremaining: 2m 43s\n",
      "200:\ttest: 0.8734923\ttest1: 0.8730804\tbest: 0.8730907 (199)\ttotal: 7.86s\tremaining: 3m 7s\n",
      "400:\ttest: 0.8752079\ttest1: 0.8744357\tbest: 0.8744357 (400)\ttotal: 16.3s\tremaining: 3m 6s\n",
      "600:\ttest: 0.8765610\ttest1: 0.8743812\tbest: 0.8744430 (454)\ttotal: 24.5s\tremaining: 2m 59s\n",
      "Stopped by overfitting detector  (200 iterations wait)\n",
      "\n",
      "bestTest = 0.8744429612\n",
      "bestIteration = 454\n",
      "\n",
      "Shrink model to first 455 iterations.\n",
      "err_cb:  0.8744429612226299\n",
      "0:\ttest: 0.8607358\ttest1: 0.8647917\tbest: 0.8647917 (0)\ttotal: 38.9ms\tremaining: 3m 14s\n",
      "200:\ttest: 0.8732937\ttest1: 0.8765141\tbest: 0.8765361 (199)\ttotal: 8.46s\tremaining: 3m 21s\n",
      "400:\ttest: 0.8751315\ttest1: 0.8768789\tbest: 0.8769000 (392)\ttotal: 16.2s\tremaining: 3m 5s\n",
      "Stopped by overfitting detector  (200 iterations wait)\n",
      "\n",
      "bestTest = 0.8768999698\n",
      "bestIteration = 392\n",
      "\n",
      "Shrink model to first 393 iterations.\n",
      "err_cb:  0.8768999698019682\n",
      "0:\ttest: 0.8609542\ttest1: 0.8617566\tbest: 0.8617566 (0)\ttotal: 71.1ms\tremaining: 5m 55s\n",
      "200:\ttest: 0.8733328\ttest1: 0.8735948\tbest: 0.8735948 (200)\ttotal: 7.94s\tremaining: 3m 9s\n",
      "400:\ttest: 0.8751888\ttest1: 0.8739596\tbest: 0.8739920 (371)\ttotal: 15.8s\tremaining: 3m 1s\n",
      "Stopped by overfitting detector  (200 iterations wait)\n",
      "\n",
      "bestTest = 0.8739920295\n",
      "bestIteration = 371\n",
      "\n",
      "Shrink model to first 372 iterations.\n",
      "err_cb:  0.8739920294823731\n",
      "0:\ttest: 0.8610955\ttest1: 0.8558768\tbest: 0.8558768 (0)\ttotal: 49.2ms\tremaining: 4m 5s\n",
      "200:\ttest: 0.8736792\ttest1: 0.8703932\tbest: 0.8703932 (200)\ttotal: 8.09s\tremaining: 3m 13s\n",
      "400:\ttest: 0.8754718\ttest1: 0.8712130\tbest: 0.8712184 (398)\ttotal: 15.9s\tremaining: 3m 2s\n",
      "600:\ttest: 0.8768489\ttest1: 0.8715795\tbest: 0.8716621 (566)\ttotal: 23.9s\tremaining: 2m 55s\n",
      "Stopped by overfitting detector  (200 iterations wait)\n",
      "\n",
      "bestTest = 0.8716621494\n",
      "bestIteration = 566\n",
      "\n",
      "Shrink model to first 567 iterations.\n",
      "err_cb:  0.8716621493910227\n",
      "0:\ttest: 0.8605948\ttest1: 0.8629173\tbest: 0.8629173 (0)\ttotal: 31.7ms\tremaining: 2m 38s\n",
      "200:\ttest: 0.8733154\ttest1: 0.8756523\tbest: 0.8756523 (200)\ttotal: 7.84s\tremaining: 3m 7s\n",
      "400:\ttest: 0.8750492\ttest1: 0.8762046\tbest: 0.8762046 (400)\ttotal: 15.8s\tremaining: 3m 1s\n",
      "600:\ttest: 0.8764111\ttest1: 0.8764703\tbest: 0.8765533 (521)\ttotal: 24.6s\tremaining: 2m 59s\n",
      "Stopped by overfitting detector  (200 iterations wait)\n",
      "\n",
      "bestTest = 0.8765533001\n",
      "bestIteration = 521\n",
      "\n",
      "Shrink model to first 522 iterations.\n",
      "err_cb:  0.8765533001448494\n",
      "0:\ttest: 0.8602720\ttest1: 0.8674372\tbest: 0.8674372 (0)\ttotal: 89.7ms\tremaining: 7m 28s\n",
      "200:\ttest: 0.8730687\ttest1: 0.8786596\tbest: 0.8786745 (199)\ttotal: 8.32s\tremaining: 3m 18s\n"
     ]
    },
    {
     "name": "stdout",
     "output_type": "stream",
     "text": [
      "400:\ttest: 0.8748931\ttest1: 0.8795569\tbest: 0.8795879 (386)\ttotal: 16.5s\tremaining: 3m 9s\n",
      "600:\ttest: 0.8763140\ttest1: 0.8798940\tbest: 0.8799468 (571)\ttotal: 25.1s\tremaining: 3m 3s\n",
      "800:\ttest: 0.8774307\ttest1: 0.8800234\tbest: 0.8800250 (799)\ttotal: 33.5s\tremaining: 2m 55s\n",
      "1000:\ttest: 0.8783958\ttest1: 0.8800466\tbest: 0.8800539 (997)\ttotal: 41.8s\tremaining: 2m 46s\n",
      "1200:\ttest: 0.8792440\ttest1: 0.8800290\tbest: 0.8800734 (1057)\ttotal: 50.6s\tremaining: 2m 40s\n",
      "1400:\ttest: 0.8799761\ttest1: 0.8799468\tbest: 0.8800858 (1235)\ttotal: 59s\tremaining: 2m 31s\n",
      "Stopped by overfitting detector  (200 iterations wait)\n",
      "\n",
      "bestTest = 0.8800858171\n",
      "bestIteration = 1235\n",
      "\n",
      "Shrink model to first 1236 iterations.\n",
      "err_cb:  0.8800858171369423\n",
      "0:\ttest: 0.8606712\ttest1: 0.8618466\tbest: 0.8618466 (0)\ttotal: 38.8ms\tremaining: 3m 14s\n",
      "200:\ttest: 0.8733030\ttest1: 0.8749452\tbest: 0.8749452 (200)\ttotal: 8.04s\tremaining: 3m 11s\n",
      "400:\ttest: 0.8749953\ttest1: 0.8761730\tbest: 0.8761730 (400)\ttotal: 15.9s\tremaining: 3m 2s\n",
      "600:\ttest: 0.8763281\ttest1: 0.8766295\tbest: 0.8766342 (599)\ttotal: 24s\tremaining: 2m 55s\n",
      "800:\ttest: 0.8774125\ttest1: 0.8766726\tbest: 0.8766864 (797)\ttotal: 32.3s\tremaining: 2m 49s\n",
      "1000:\ttest: 0.8784057\ttest1: 0.8768725\tbest: 0.8768773 (992)\ttotal: 41s\tremaining: 2m 43s\n",
      "1200:\ttest: 0.8792090\ttest1: 0.8768126\tbest: 0.8768918 (1011)\ttotal: 49.5s\tremaining: 2m 36s\n",
      "Stopped by overfitting detector  (200 iterations wait)\n",
      "\n",
      "bestTest = 0.8768918169\n",
      "bestIteration = 1011\n",
      "\n",
      "Shrink model to first 1012 iterations.\n",
      "err_cb:  0.8768918169429376\n",
      "0:\ttest: 0.8609282\ttest1: 0.8581334\tbest: 0.8581334 (0)\ttotal: 47.3ms\tremaining: 3m 56s\n",
      "200:\ttest: 0.8737225\ttest1: 0.8697197\tbest: 0.8697260 (198)\ttotal: 9.14s\tremaining: 3m 38s\n",
      "400:\ttest: 0.8755332\ttest1: 0.8704470\tbest: 0.8704470 (400)\ttotal: 18.6s\tremaining: 3m 33s\n",
      "600:\ttest: 0.8768376\ttest1: 0.8707658\tbest: 0.8707728 (596)\ttotal: 27.7s\tremaining: 3m 22s\n",
      "800:\ttest: 0.8778772\ttest1: 0.8708861\tbest: 0.8709247 (771)\ttotal: 37s\tremaining: 3m 13s\n",
      "Stopped by overfitting detector  (200 iterations wait)\n",
      "\n",
      "bestTest = 0.8709247157\n",
      "bestIteration = 771\n",
      "\n",
      "Shrink model to first 772 iterations.\n",
      "err_cb:  0.8709247157432196\n"
     ]
    }
   ],
   "source": [
    "#TrainCatBoost Classifier\n",
    "from catboost import CatBoostClassifier,Pool, cv\n",
    "errCB = []\n",
    "y_pred_tot_cb = []\n",
    "from sklearn.model_selection import KFold,StratifiedKFold\n",
    "\n",
    "fold = StratifiedKFold(n_splits=15)\n",
    "i = 1\n",
    "for train_index, test_index in fold.split(X,y):\n",
    "    x_train, x_val = X.iloc[train_index], X.iloc[test_index]\n",
    "    y_train, y_val = y.iloc[train_index], y.iloc[test_index]\n",
    "    m = CatBoostClassifier(n_estimators=5000,\n",
    "                           random_state=1994,\n",
    "                           eval_metric='AUC',\n",
    "                           learning_rate=0.03, max_depth=5)\n",
    "    m.fit(x_train, y_train,\n",
    "          eval_set=[(x_train,y_train),(x_val, y_val)],\n",
    "          early_stopping_rounds=200,\n",
    "          verbose=200)\n",
    "    pred_y = m.predict_proba(x_val)[:,-1]\n",
    "    print(\"err_cb: \",roc_auc_score(y_val,pred_y))\n",
    "    errCB.append(roc_auc_score(y_val,pred_y))\n",
    "    pred_test = m.predict_proba(test)[:,-1]\n",
    "    i = i + 1\n",
    "    y_pred_tot_cb.append(pred_test)"
   ]
  },
  {
   "cell_type": "code",
   "execution_count": 124,
   "metadata": {},
   "outputs": [
    {
     "data": {
      "text/plain": [
       "0.8742352409230569"
      ]
     },
     "execution_count": 124,
     "metadata": {},
     "output_type": "execute_result"
    }
   ],
   "source": [
    "np.mean(errCB, 0)          # AUC score of catboost"
   ]
  },
  {
   "cell_type": "code",
   "execution_count": 125,
   "metadata": {},
   "outputs": [
    {
     "data": {
      "text/plain": [
       "0.8743097302295698"
      ]
     },
     "execution_count": 125,
     "metadata": {},
     "output_type": "execute_result"
    }
   ],
   "source": [
    "(np.mean(errxgb, 0) + np.mean(err, 0) + np.mean(errCB, 0))/3    # Mean AUC score from 3 models"
   ]
  },
  {
   "cell_type": "code",
   "execution_count": 126,
   "metadata": {},
   "outputs": [],
   "source": [
    "ss = pd.DataFrame({\"ID\":list(ID['ID']), \"Is_Lead\":(np.mean(y_pred_tot_lgm, 0) + np.mean(y_pred_tot_cb, 0) + np.mean(y_pred_tot_xgb, 0))/3})"
   ]
  },
  {
   "cell_type": "code",
   "execution_count": 135,
   "metadata": {},
   "outputs": [],
   "source": [
    "ss.to_csv('Stratified.csv', index=False, header=True)"
   ]
  }
 ],
 "metadata": {
  "kernelspec": {
   "display_name": "Python 3",
   "language": "python",
   "name": "python3"
  },
  "language_info": {
   "codemirror_mode": {
    "name": "ipython",
    "version": 3
   },
   "file_extension": ".py",
   "mimetype": "text/x-python",
   "name": "python",
   "nbconvert_exporter": "python",
   "pygments_lexer": "ipython3",
   "version": "3.7.6"
  }
 },
 "nbformat": 4,
 "nbformat_minor": 4
}
